{
 "cells": [
  {
   "cell_type": "code",
   "execution_count": 1,
   "metadata": {},
   "outputs": [],
   "source": [
    "## Import required libraries\n",
    "import numpy as np\n",
    "import pandas as pd\n",
    "from functools import reduce\n",
    "\n",
    "import matplotlib.pyplot as plt\n",
    "import seaborn as sns\n",
    "\n",
    "%matplotlib inline\n",
    "\n",
    "from bokeh.io import output_notebook, show\n",
    "from bokeh.plotting import figure\n",
    "\n",
    "pd.set_option('display.max_columns',25)"
   ]
  },
  {
   "cell_type": "code",
   "execution_count": 2,
   "metadata": {},
   "outputs": [
    {
     "data": {
      "text/html": [
       "\n",
       "    <div class=\"bk-root\">\n",
       "        <a href=\"https://bokeh.org\" target=\"_blank\" class=\"bk-logo bk-logo-small bk-logo-notebook\"></a>\n",
       "        <span id=\"1001\">Loading BokehJS ...</span>\n",
       "    </div>"
      ]
     },
     "metadata": {},
     "output_type": "display_data"
    },
    {
     "data": {
      "application/javascript": [
       "\n",
       "(function(root) {\n",
       "  function now() {\n",
       "    return new Date();\n",
       "  }\n",
       "\n",
       "  var force = true;\n",
       "\n",
       "  if (typeof root._bokeh_onload_callbacks === \"undefined\" || force === true) {\n",
       "    root._bokeh_onload_callbacks = [];\n",
       "    root._bokeh_is_loading = undefined;\n",
       "  }\n",
       "\n",
       "  var JS_MIME_TYPE = 'application/javascript';\n",
       "  var HTML_MIME_TYPE = 'text/html';\n",
       "  var EXEC_MIME_TYPE = 'application/vnd.bokehjs_exec.v0+json';\n",
       "  var CLASS_NAME = 'output_bokeh rendered_html';\n",
       "\n",
       "  /**\n",
       "   * Render data to the DOM node\n",
       "   */\n",
       "  function render(props, node) {\n",
       "    var script = document.createElement(\"script\");\n",
       "    node.appendChild(script);\n",
       "  }\n",
       "\n",
       "  /**\n",
       "   * Handle when an output is cleared or removed\n",
       "   */\n",
       "  function handleClearOutput(event, handle) {\n",
       "    var cell = handle.cell;\n",
       "\n",
       "    var id = cell.output_area._bokeh_element_id;\n",
       "    var server_id = cell.output_area._bokeh_server_id;\n",
       "    // Clean up Bokeh references\n",
       "    if (id != null && id in Bokeh.index) {\n",
       "      Bokeh.index[id].model.document.clear();\n",
       "      delete Bokeh.index[id];\n",
       "    }\n",
       "\n",
       "    if (server_id !== undefined) {\n",
       "      // Clean up Bokeh references\n",
       "      var cmd = \"from bokeh.io.state import curstate; print(curstate().uuid_to_server['\" + server_id + \"'].get_sessions()[0].document.roots[0]._id)\";\n",
       "      cell.notebook.kernel.execute(cmd, {\n",
       "        iopub: {\n",
       "          output: function(msg) {\n",
       "            var id = msg.content.text.trim();\n",
       "            if (id in Bokeh.index) {\n",
       "              Bokeh.index[id].model.document.clear();\n",
       "              delete Bokeh.index[id];\n",
       "            }\n",
       "          }\n",
       "        }\n",
       "      });\n",
       "      // Destroy server and session\n",
       "      var cmd = \"import bokeh.io.notebook as ion; ion.destroy_server('\" + server_id + \"')\";\n",
       "      cell.notebook.kernel.execute(cmd);\n",
       "    }\n",
       "  }\n",
       "\n",
       "  /**\n",
       "   * Handle when a new output is added\n",
       "   */\n",
       "  function handleAddOutput(event, handle) {\n",
       "    var output_area = handle.output_area;\n",
       "    var output = handle.output;\n",
       "\n",
       "    // limit handleAddOutput to display_data with EXEC_MIME_TYPE content only\n",
       "    if ((output.output_type != \"display_data\") || (!output.data.hasOwnProperty(EXEC_MIME_TYPE))) {\n",
       "      return\n",
       "    }\n",
       "\n",
       "    var toinsert = output_area.element.find(\".\" + CLASS_NAME.split(' ')[0]);\n",
       "\n",
       "    if (output.metadata[EXEC_MIME_TYPE][\"id\"] !== undefined) {\n",
       "      toinsert[toinsert.length - 1].firstChild.textContent = output.data[JS_MIME_TYPE];\n",
       "      // store reference to embed id on output_area\n",
       "      output_area._bokeh_element_id = output.metadata[EXEC_MIME_TYPE][\"id\"];\n",
       "    }\n",
       "    if (output.metadata[EXEC_MIME_TYPE][\"server_id\"] !== undefined) {\n",
       "      var bk_div = document.createElement(\"div\");\n",
       "      bk_div.innerHTML = output.data[HTML_MIME_TYPE];\n",
       "      var script_attrs = bk_div.children[0].attributes;\n",
       "      for (var i = 0; i < script_attrs.length; i++) {\n",
       "        toinsert[toinsert.length - 1].firstChild.setAttribute(script_attrs[i].name, script_attrs[i].value);\n",
       "        toinsert[toinsert.length - 1].firstChild.textContent = bk_div.children[0].textContent\n",
       "      }\n",
       "      // store reference to server id on output_area\n",
       "      output_area._bokeh_server_id = output.metadata[EXEC_MIME_TYPE][\"server_id\"];\n",
       "    }\n",
       "  }\n",
       "\n",
       "  function register_renderer(events, OutputArea) {\n",
       "\n",
       "    function append_mime(data, metadata, element) {\n",
       "      // create a DOM node to render to\n",
       "      var toinsert = this.create_output_subarea(\n",
       "        metadata,\n",
       "        CLASS_NAME,\n",
       "        EXEC_MIME_TYPE\n",
       "      );\n",
       "      this.keyboard_manager.register_events(toinsert);\n",
       "      // Render to node\n",
       "      var props = {data: data, metadata: metadata[EXEC_MIME_TYPE]};\n",
       "      render(props, toinsert[toinsert.length - 1]);\n",
       "      element.append(toinsert);\n",
       "      return toinsert\n",
       "    }\n",
       "\n",
       "    /* Handle when an output is cleared or removed */\n",
       "    events.on('clear_output.CodeCell', handleClearOutput);\n",
       "    events.on('delete.Cell', handleClearOutput);\n",
       "\n",
       "    /* Handle when a new output is added */\n",
       "    events.on('output_added.OutputArea', handleAddOutput);\n",
       "\n",
       "    /**\n",
       "     * Register the mime type and append_mime function with output_area\n",
       "     */\n",
       "    OutputArea.prototype.register_mime_type(EXEC_MIME_TYPE, append_mime, {\n",
       "      /* Is output safe? */\n",
       "      safe: true,\n",
       "      /* Index of renderer in `output_area.display_order` */\n",
       "      index: 0\n",
       "    });\n",
       "  }\n",
       "\n",
       "  // register the mime type if in Jupyter Notebook environment and previously unregistered\n",
       "  if (root.Jupyter !== undefined) {\n",
       "    var events = require('base/js/events');\n",
       "    var OutputArea = require('notebook/js/outputarea').OutputArea;\n",
       "\n",
       "    if (OutputArea.prototype.mime_types().indexOf(EXEC_MIME_TYPE) == -1) {\n",
       "      register_renderer(events, OutputArea);\n",
       "    }\n",
       "  }\n",
       "\n",
       "  \n",
       "  if (typeof (root._bokeh_timeout) === \"undefined\" || force === true) {\n",
       "    root._bokeh_timeout = Date.now() + 5000;\n",
       "    root._bokeh_failed_load = false;\n",
       "  }\n",
       "\n",
       "  var NB_LOAD_WARNING = {'data': {'text/html':\n",
       "     \"<div style='background-color: #fdd'>\\n\"+\n",
       "     \"<p>\\n\"+\n",
       "     \"BokehJS does not appear to have successfully loaded. If loading BokehJS from CDN, this \\n\"+\n",
       "     \"may be due to a slow or bad network connection. Possible fixes:\\n\"+\n",
       "     \"</p>\\n\"+\n",
       "     \"<ul>\\n\"+\n",
       "     \"<li>re-rerun `output_notebook()` to attempt to load from CDN again, or</li>\\n\"+\n",
       "     \"<li>use INLINE resources instead, as so:</li>\\n\"+\n",
       "     \"</ul>\\n\"+\n",
       "     \"<code>\\n\"+\n",
       "     \"from bokeh.resources import INLINE\\n\"+\n",
       "     \"output_notebook(resources=INLINE)\\n\"+\n",
       "     \"</code>\\n\"+\n",
       "     \"</div>\"}};\n",
       "\n",
       "  function display_loaded() {\n",
       "    var el = document.getElementById(\"1001\");\n",
       "    if (el != null) {\n",
       "      el.textContent = \"BokehJS is loading...\";\n",
       "    }\n",
       "    if (root.Bokeh !== undefined) {\n",
       "      if (el != null) {\n",
       "        el.textContent = \"BokehJS \" + root.Bokeh.version + \" successfully loaded.\";\n",
       "      }\n",
       "    } else if (Date.now() < root._bokeh_timeout) {\n",
       "      setTimeout(display_loaded, 100)\n",
       "    }\n",
       "  }\n",
       "\n",
       "\n",
       "  function run_callbacks() {\n",
       "    try {\n",
       "      root._bokeh_onload_callbacks.forEach(function(callback) {\n",
       "        if (callback != null)\n",
       "          callback();\n",
       "      });\n",
       "    } finally {\n",
       "      delete root._bokeh_onload_callbacks\n",
       "    }\n",
       "    console.debug(\"Bokeh: all callbacks have finished\");\n",
       "  }\n",
       "\n",
       "  function load_libs(css_urls, js_urls, callback) {\n",
       "    if (css_urls == null) css_urls = [];\n",
       "    if (js_urls == null) js_urls = [];\n",
       "\n",
       "    root._bokeh_onload_callbacks.push(callback);\n",
       "    if (root._bokeh_is_loading > 0) {\n",
       "      console.debug(\"Bokeh: BokehJS is being loaded, scheduling callback at\", now());\n",
       "      return null;\n",
       "    }\n",
       "    if (js_urls == null || js_urls.length === 0) {\n",
       "      run_callbacks();\n",
       "      return null;\n",
       "    }\n",
       "    console.debug(\"Bokeh: BokehJS not loaded, scheduling load and callback at\", now());\n",
       "    root._bokeh_is_loading = css_urls.length + js_urls.length;\n",
       "\n",
       "    function on_load() {\n",
       "      root._bokeh_is_loading--;\n",
       "      if (root._bokeh_is_loading === 0) {\n",
       "        console.debug(\"Bokeh: all BokehJS libraries/stylesheets loaded\");\n",
       "        run_callbacks()\n",
       "      }\n",
       "    }\n",
       "\n",
       "    function on_error() {\n",
       "      console.error(\"failed to load \" + url);\n",
       "    }\n",
       "\n",
       "    for (var i = 0; i < css_urls.length; i++) {\n",
       "      var url = css_urls[i];\n",
       "      const element = document.createElement(\"link\");\n",
       "      element.onload = on_load;\n",
       "      element.onerror = on_error;\n",
       "      element.rel = \"stylesheet\";\n",
       "      element.type = \"text/css\";\n",
       "      element.href = url;\n",
       "      console.debug(\"Bokeh: injecting link tag for BokehJS stylesheet: \", url);\n",
       "      document.body.appendChild(element);\n",
       "    }\n",
       "\n",
       "    const hashes = {\"https://cdn.bokeh.org/bokeh/release/bokeh-2.1.1.min.js\": \"kLr4fYcqcSpbuI95brIH3vnnYCquzzSxHPU6XGQCIkQRGJwhg0StNbj1eegrHs12\", \"https://cdn.bokeh.org/bokeh/release/bokeh-widgets-2.1.1.min.js\": \"xIGPmVtaOm+z0BqfSOMn4lOR6ciex448GIKG4eE61LsAvmGj48XcMQZtKcE/UXZe\", \"https://cdn.bokeh.org/bokeh/release/bokeh-tables-2.1.1.min.js\": \"Dc9u1wF/0zApGIWoBbH77iWEHtdmkuYWG839Uzmv8y8yBLXebjO9ZnERsde5Ln/P\", \"https://cdn.bokeh.org/bokeh/release/bokeh-gl-2.1.1.min.js\": \"cT9JaBz7GiRXdENrJLZNSC6eMNF3nh3fa5fTF51Svp+ukxPdwcU5kGXGPBgDCa2j\"};\n",
       "\n",
       "    for (var i = 0; i < js_urls.length; i++) {\n",
       "      var url = js_urls[i];\n",
       "      var element = document.createElement('script');\n",
       "      element.onload = on_load;\n",
       "      element.onerror = on_error;\n",
       "      element.async = false;\n",
       "      element.src = url;\n",
       "      if (url in hashes) {\n",
       "        element.crossOrigin = \"anonymous\";\n",
       "        element.integrity = \"sha384-\" + hashes[url];\n",
       "      }\n",
       "      console.debug(\"Bokeh: injecting script tag for BokehJS library: \", url);\n",
       "      document.head.appendChild(element);\n",
       "    }\n",
       "  };\n",
       "\n",
       "  function inject_raw_css(css) {\n",
       "    const element = document.createElement(\"style\");\n",
       "    element.appendChild(document.createTextNode(css));\n",
       "    document.body.appendChild(element);\n",
       "  }\n",
       "\n",
       "  \n",
       "  var js_urls = [\"https://cdn.bokeh.org/bokeh/release/bokeh-2.1.1.min.js\", \"https://cdn.bokeh.org/bokeh/release/bokeh-widgets-2.1.1.min.js\", \"https://cdn.bokeh.org/bokeh/release/bokeh-tables-2.1.1.min.js\", \"https://cdn.bokeh.org/bokeh/release/bokeh-gl-2.1.1.min.js\"];\n",
       "  var css_urls = [];\n",
       "  \n",
       "\n",
       "  var inline_js = [\n",
       "    function(Bokeh) {\n",
       "      Bokeh.set_log_level(\"info\");\n",
       "    },\n",
       "    function(Bokeh) {\n",
       "    \n",
       "    \n",
       "    }\n",
       "  ];\n",
       "\n",
       "  function run_inline_js() {\n",
       "    \n",
       "    if (root.Bokeh !== undefined || force === true) {\n",
       "      \n",
       "    for (var i = 0; i < inline_js.length; i++) {\n",
       "      inline_js[i].call(root, root.Bokeh);\n",
       "    }\n",
       "    if (force === true) {\n",
       "        display_loaded();\n",
       "      }} else if (Date.now() < root._bokeh_timeout) {\n",
       "      setTimeout(run_inline_js, 100);\n",
       "    } else if (!root._bokeh_failed_load) {\n",
       "      console.log(\"Bokeh: BokehJS failed to load within specified timeout.\");\n",
       "      root._bokeh_failed_load = true;\n",
       "    } else if (force !== true) {\n",
       "      var cell = $(document.getElementById(\"1001\")).parents('.cell').data().cell;\n",
       "      cell.output_area.append_execute_result(NB_LOAD_WARNING)\n",
       "    }\n",
       "\n",
       "  }\n",
       "\n",
       "  if (root._bokeh_is_loading === 0) {\n",
       "    console.debug(\"Bokeh: BokehJS loaded, going straight to plotting\");\n",
       "    run_inline_js();\n",
       "  } else {\n",
       "    load_libs(css_urls, js_urls, function() {\n",
       "      console.debug(\"Bokeh: BokehJS plotting callback run at\", now());\n",
       "      run_inline_js();\n",
       "    });\n",
       "  }\n",
       "}(window));"
      ],
      "application/vnd.bokehjs_load.v0+json": "\n(function(root) {\n  function now() {\n    return new Date();\n  }\n\n  var force = true;\n\n  if (typeof root._bokeh_onload_callbacks === \"undefined\" || force === true) {\n    root._bokeh_onload_callbacks = [];\n    root._bokeh_is_loading = undefined;\n  }\n\n  \n\n  \n  if (typeof (root._bokeh_timeout) === \"undefined\" || force === true) {\n    root._bokeh_timeout = Date.now() + 5000;\n    root._bokeh_failed_load = false;\n  }\n\n  var NB_LOAD_WARNING = {'data': {'text/html':\n     \"<div style='background-color: #fdd'>\\n\"+\n     \"<p>\\n\"+\n     \"BokehJS does not appear to have successfully loaded. If loading BokehJS from CDN, this \\n\"+\n     \"may be due to a slow or bad network connection. Possible fixes:\\n\"+\n     \"</p>\\n\"+\n     \"<ul>\\n\"+\n     \"<li>re-rerun `output_notebook()` to attempt to load from CDN again, or</li>\\n\"+\n     \"<li>use INLINE resources instead, as so:</li>\\n\"+\n     \"</ul>\\n\"+\n     \"<code>\\n\"+\n     \"from bokeh.resources import INLINE\\n\"+\n     \"output_notebook(resources=INLINE)\\n\"+\n     \"</code>\\n\"+\n     \"</div>\"}};\n\n  function display_loaded() {\n    var el = document.getElementById(\"1001\");\n    if (el != null) {\n      el.textContent = \"BokehJS is loading...\";\n    }\n    if (root.Bokeh !== undefined) {\n      if (el != null) {\n        el.textContent = \"BokehJS \" + root.Bokeh.version + \" successfully loaded.\";\n      }\n    } else if (Date.now() < root._bokeh_timeout) {\n      setTimeout(display_loaded, 100)\n    }\n  }\n\n\n  function run_callbacks() {\n    try {\n      root._bokeh_onload_callbacks.forEach(function(callback) {\n        if (callback != null)\n          callback();\n      });\n    } finally {\n      delete root._bokeh_onload_callbacks\n    }\n    console.debug(\"Bokeh: all callbacks have finished\");\n  }\n\n  function load_libs(css_urls, js_urls, callback) {\n    if (css_urls == null) css_urls = [];\n    if (js_urls == null) js_urls = [];\n\n    root._bokeh_onload_callbacks.push(callback);\n    if (root._bokeh_is_loading > 0) {\n      console.debug(\"Bokeh: BokehJS is being loaded, scheduling callback at\", now());\n      return null;\n    }\n    if (js_urls == null || js_urls.length === 0) {\n      run_callbacks();\n      return null;\n    }\n    console.debug(\"Bokeh: BokehJS not loaded, scheduling load and callback at\", now());\n    root._bokeh_is_loading = css_urls.length + js_urls.length;\n\n    function on_load() {\n      root._bokeh_is_loading--;\n      if (root._bokeh_is_loading === 0) {\n        console.debug(\"Bokeh: all BokehJS libraries/stylesheets loaded\");\n        run_callbacks()\n      }\n    }\n\n    function on_error() {\n      console.error(\"failed to load \" + url);\n    }\n\n    for (var i = 0; i < css_urls.length; i++) {\n      var url = css_urls[i];\n      const element = document.createElement(\"link\");\n      element.onload = on_load;\n      element.onerror = on_error;\n      element.rel = \"stylesheet\";\n      element.type = \"text/css\";\n      element.href = url;\n      console.debug(\"Bokeh: injecting link tag for BokehJS stylesheet: \", url);\n      document.body.appendChild(element);\n    }\n\n    const hashes = {\"https://cdn.bokeh.org/bokeh/release/bokeh-2.1.1.min.js\": \"kLr4fYcqcSpbuI95brIH3vnnYCquzzSxHPU6XGQCIkQRGJwhg0StNbj1eegrHs12\", \"https://cdn.bokeh.org/bokeh/release/bokeh-widgets-2.1.1.min.js\": \"xIGPmVtaOm+z0BqfSOMn4lOR6ciex448GIKG4eE61LsAvmGj48XcMQZtKcE/UXZe\", \"https://cdn.bokeh.org/bokeh/release/bokeh-tables-2.1.1.min.js\": \"Dc9u1wF/0zApGIWoBbH77iWEHtdmkuYWG839Uzmv8y8yBLXebjO9ZnERsde5Ln/P\", \"https://cdn.bokeh.org/bokeh/release/bokeh-gl-2.1.1.min.js\": \"cT9JaBz7GiRXdENrJLZNSC6eMNF3nh3fa5fTF51Svp+ukxPdwcU5kGXGPBgDCa2j\"};\n\n    for (var i = 0; i < js_urls.length; i++) {\n      var url = js_urls[i];\n      var element = document.createElement('script');\n      element.onload = on_load;\n      element.onerror = on_error;\n      element.async = false;\n      element.src = url;\n      if (url in hashes) {\n        element.crossOrigin = \"anonymous\";\n        element.integrity = \"sha384-\" + hashes[url];\n      }\n      console.debug(\"Bokeh: injecting script tag for BokehJS library: \", url);\n      document.head.appendChild(element);\n    }\n  };\n\n  function inject_raw_css(css) {\n    const element = document.createElement(\"style\");\n    element.appendChild(document.createTextNode(css));\n    document.body.appendChild(element);\n  }\n\n  \n  var js_urls = [\"https://cdn.bokeh.org/bokeh/release/bokeh-2.1.1.min.js\", \"https://cdn.bokeh.org/bokeh/release/bokeh-widgets-2.1.1.min.js\", \"https://cdn.bokeh.org/bokeh/release/bokeh-tables-2.1.1.min.js\", \"https://cdn.bokeh.org/bokeh/release/bokeh-gl-2.1.1.min.js\"];\n  var css_urls = [];\n  \n\n  var inline_js = [\n    function(Bokeh) {\n      Bokeh.set_log_level(\"info\");\n    },\n    function(Bokeh) {\n    \n    \n    }\n  ];\n\n  function run_inline_js() {\n    \n    if (root.Bokeh !== undefined || force === true) {\n      \n    for (var i = 0; i < inline_js.length; i++) {\n      inline_js[i].call(root, root.Bokeh);\n    }\n    if (force === true) {\n        display_loaded();\n      }} else if (Date.now() < root._bokeh_timeout) {\n      setTimeout(run_inline_js, 100);\n    } else if (!root._bokeh_failed_load) {\n      console.log(\"Bokeh: BokehJS failed to load within specified timeout.\");\n      root._bokeh_failed_load = true;\n    } else if (force !== true) {\n      var cell = $(document.getElementById(\"1001\")).parents('.cell').data().cell;\n      cell.output_area.append_execute_result(NB_LOAD_WARNING)\n    }\n\n  }\n\n  if (root._bokeh_is_loading === 0) {\n    console.debug(\"Bokeh: BokehJS loaded, going straight to plotting\");\n    run_inline_js();\n  } else {\n    load_libs(css_urls, js_urls, function() {\n      console.debug(\"Bokeh: BokehJS plotting callback run at\", now());\n      run_inline_js();\n    });\n  }\n}(window));"
     },
     "metadata": {},
     "output_type": "display_data"
    }
   ],
   "source": [
    "output_notebook()  ## Using this all calls to the function show() will be displayed inline in the notebook"
   ]
  },
  {
   "cell_type": "markdown",
   "metadata": {},
   "source": [
    "#### **``Loading CSV files of Total Population, CBR, DR, FR, IMR, LER, Rural & Urban Pop``**"
   ]
  },
  {
   "cell_type": "markdown",
   "metadata": {},
   "source": [
    "#### **``1.Total Population Data``**"
   ]
  },
  {
   "cell_type": "code",
   "execution_count": 3,
   "metadata": {},
   "outputs": [
    {
     "data": {
      "text/html": [
       "<div>\n",
       "<style scoped>\n",
       "    .dataframe tbody tr th:only-of-type {\n",
       "        vertical-align: middle;\n",
       "    }\n",
       "\n",
       "    .dataframe tbody tr th {\n",
       "        vertical-align: top;\n",
       "    }\n",
       "\n",
       "    .dataframe thead th {\n",
       "        text-align: right;\n",
       "    }\n",
       "</style>\n",
       "<table border=\"1\" class=\"dataframe\">\n",
       "  <thead>\n",
       "    <tr style=\"text-align: right;\">\n",
       "      <th></th>\n",
       "      <th>date</th>\n",
       "      <th>Population</th>\n",
       "      <th>Annual % Change</th>\n",
       "    </tr>\n",
       "  </thead>\n",
       "  <tbody>\n",
       "    <tr>\n",
       "      <th>0</th>\n",
       "      <td>1950-12-31</td>\n",
       "      <td>376325200</td>\n",
       "      <td>NaN</td>\n",
       "    </tr>\n",
       "    <tr>\n",
       "      <th>1</th>\n",
       "      <td>1951-12-31</td>\n",
       "      <td>382376948</td>\n",
       "      <td>1.61</td>\n",
       "    </tr>\n",
       "    <tr>\n",
       "      <th>2</th>\n",
       "      <td>1952-12-31</td>\n",
       "      <td>388799073</td>\n",
       "      <td>1.68</td>\n",
       "    </tr>\n",
       "    <tr>\n",
       "      <th>3</th>\n",
       "      <td>1953-12-31</td>\n",
       "      <td>395544369</td>\n",
       "      <td>1.73</td>\n",
       "    </tr>\n",
       "    <tr>\n",
       "      <th>4</th>\n",
       "      <td>1954-12-31</td>\n",
       "      <td>402578596</td>\n",
       "      <td>1.78</td>\n",
       "    </tr>\n",
       "  </tbody>\n",
       "</table>\n",
       "</div>"
      ],
      "text/plain": [
       "         date   Population   Annual % Change\n",
       "0  1950-12-31    376325200               NaN\n",
       "1  1951-12-31    382376948              1.61\n",
       "2  1952-12-31    388799073              1.68\n",
       "3  1953-12-31    395544369              1.73\n",
       "4  1954-12-31    402578596              1.78"
      ]
     },
     "execution_count": 3,
     "metadata": {},
     "output_type": "execute_result"
    }
   ],
   "source": [
    "total_pop_df = pd.read_csv(\"Datasets/india-population-2020-06-22.csv\",skiprows=15)\n",
    "total_pop_df.head()"
   ]
  },
  {
   "cell_type": "markdown",
   "metadata": {},
   "source": [
    "#### **``2. Crude Birth Rate Data``**"
   ]
  },
  {
   "cell_type": "code",
   "execution_count": 4,
   "metadata": {},
   "outputs": [
    {
     "data": {
      "text/html": [
       "<div>\n",
       "<style scoped>\n",
       "    .dataframe tbody tr th:only-of-type {\n",
       "        vertical-align: middle;\n",
       "    }\n",
       "\n",
       "    .dataframe tbody tr th {\n",
       "        vertical-align: top;\n",
       "    }\n",
       "\n",
       "    .dataframe thead th {\n",
       "        text-align: right;\n",
       "    }\n",
       "</style>\n",
       "<table border=\"1\" class=\"dataframe\">\n",
       "  <thead>\n",
       "    <tr style=\"text-align: right;\">\n",
       "      <th></th>\n",
       "      <th>date</th>\n",
       "      <th>Births per 1000 People</th>\n",
       "      <th>Annual % Change</th>\n",
       "    </tr>\n",
       "  </thead>\n",
       "  <tbody>\n",
       "    <tr>\n",
       "      <th>0</th>\n",
       "      <td>31/12/1950</td>\n",
       "      <td>44.175</td>\n",
       "      <td>NaN</td>\n",
       "    </tr>\n",
       "    <tr>\n",
       "      <th>1</th>\n",
       "      <td>31/12/1951</td>\n",
       "      <td>43.970</td>\n",
       "      <td>-0.46</td>\n",
       "    </tr>\n",
       "    <tr>\n",
       "      <th>2</th>\n",
       "      <td>31/12/1952</td>\n",
       "      <td>43.764</td>\n",
       "      <td>-0.47</td>\n",
       "    </tr>\n",
       "    <tr>\n",
       "      <th>3</th>\n",
       "      <td>31/12/1953</td>\n",
       "      <td>43.558</td>\n",
       "      <td>-0.47</td>\n",
       "    </tr>\n",
       "    <tr>\n",
       "      <th>4</th>\n",
       "      <td>31/12/1954</td>\n",
       "      <td>43.352</td>\n",
       "      <td>-0.47</td>\n",
       "    </tr>\n",
       "  </tbody>\n",
       "</table>\n",
       "</div>"
      ],
      "text/plain": [
       "         date   Births per 1000 People   Annual % Change\n",
       "0  31/12/1950                   44.175               NaN\n",
       "1  31/12/1951                   43.970             -0.46\n",
       "2  31/12/1952                   43.764             -0.47\n",
       "3  31/12/1953                   43.558             -0.47\n",
       "4  31/12/1954                   43.352             -0.47"
      ]
     },
     "execution_count": 4,
     "metadata": {},
     "output_type": "execute_result"
    }
   ],
   "source": [
    "cbr_df = pd.read_csv(\"Datasets/india-population-cbr.csv\")\n",
    "cbr_df.head()"
   ]
  },
  {
   "cell_type": "markdown",
   "metadata": {},
   "source": [
    "#### **``3. Death Rate Data``**"
   ]
  },
  {
   "cell_type": "code",
   "execution_count": 5,
   "metadata": {},
   "outputs": [
    {
     "data": {
      "text/html": [
       "<div>\n",
       "<style scoped>\n",
       "    .dataframe tbody tr th:only-of-type {\n",
       "        vertical-align: middle;\n",
       "    }\n",
       "\n",
       "    .dataframe tbody tr th {\n",
       "        vertical-align: top;\n",
       "    }\n",
       "\n",
       "    .dataframe thead th {\n",
       "        text-align: right;\n",
       "    }\n",
       "</style>\n",
       "<table border=\"1\" class=\"dataframe\">\n",
       "  <thead>\n",
       "    <tr style=\"text-align: right;\">\n",
       "      <th></th>\n",
       "      <th>date</th>\n",
       "      <th>Deaths per 1000 People</th>\n",
       "      <th>Annual % Change</th>\n",
       "    </tr>\n",
       "  </thead>\n",
       "  <tbody>\n",
       "    <tr>\n",
       "      <th>0</th>\n",
       "      <td>1950-12-31</td>\n",
       "      <td>28.161</td>\n",
       "      <td>NaN</td>\n",
       "    </tr>\n",
       "    <tr>\n",
       "      <th>1</th>\n",
       "      <td>1951-12-31</td>\n",
       "      <td>27.584</td>\n",
       "      <td>-2.05</td>\n",
       "    </tr>\n",
       "    <tr>\n",
       "      <th>2</th>\n",
       "      <td>1952-12-31</td>\n",
       "      <td>27.008</td>\n",
       "      <td>-2.09</td>\n",
       "    </tr>\n",
       "    <tr>\n",
       "      <th>3</th>\n",
       "      <td>1953-12-31</td>\n",
       "      <td>26.432</td>\n",
       "      <td>-2.13</td>\n",
       "    </tr>\n",
       "    <tr>\n",
       "      <th>4</th>\n",
       "      <td>1954-12-31</td>\n",
       "      <td>25.856</td>\n",
       "      <td>-2.18</td>\n",
       "    </tr>\n",
       "  </tbody>\n",
       "</table>\n",
       "</div>"
      ],
      "text/plain": [
       "         date   Deaths per 1000 People   Annual % Change\n",
       "0  1950-12-31                   28.161               NaN\n",
       "1  1951-12-31                   27.584             -2.05\n",
       "2  1952-12-31                   27.008             -2.09\n",
       "3  1953-12-31                   26.432             -2.13\n",
       "4  1954-12-31                   25.856             -2.18"
      ]
     },
     "execution_count": 5,
     "metadata": {},
     "output_type": "execute_result"
    }
   ],
   "source": [
    "dr_df = pd.read_csv(\"Datasets/india-population-death_rate.csv\",skiprows=15)\n",
    "dr_df.head()"
   ]
  },
  {
   "cell_type": "markdown",
   "metadata": {},
   "source": [
    "#### **``4. Fertility Rate Data``**"
   ]
  },
  {
   "cell_type": "code",
   "execution_count": 6,
   "metadata": {},
   "outputs": [
    {
     "data": {
      "text/html": [
       "<div>\n",
       "<style scoped>\n",
       "    .dataframe tbody tr th:only-of-type {\n",
       "        vertical-align: middle;\n",
       "    }\n",
       "\n",
       "    .dataframe tbody tr th {\n",
       "        vertical-align: top;\n",
       "    }\n",
       "\n",
       "    .dataframe thead th {\n",
       "        text-align: right;\n",
       "    }\n",
       "</style>\n",
       "<table border=\"1\" class=\"dataframe\">\n",
       "  <thead>\n",
       "    <tr style=\"text-align: right;\">\n",
       "      <th></th>\n",
       "      <th>date</th>\n",
       "      <th>Births per Woman</th>\n",
       "      <th>Annual % Change</th>\n",
       "    </tr>\n",
       "  </thead>\n",
       "  <tbody>\n",
       "    <tr>\n",
       "      <th>0</th>\n",
       "      <td>1950-12-31</td>\n",
       "      <td>5.907</td>\n",
       "      <td>NaN</td>\n",
       "    </tr>\n",
       "    <tr>\n",
       "      <th>1</th>\n",
       "      <td>1951-12-31</td>\n",
       "      <td>5.906</td>\n",
       "      <td>-0.02</td>\n",
       "    </tr>\n",
       "    <tr>\n",
       "      <th>2</th>\n",
       "      <td>1952-12-31</td>\n",
       "      <td>5.904</td>\n",
       "      <td>-0.03</td>\n",
       "    </tr>\n",
       "    <tr>\n",
       "      <th>3</th>\n",
       "      <td>1953-12-31</td>\n",
       "      <td>5.903</td>\n",
       "      <td>-0.02</td>\n",
       "    </tr>\n",
       "    <tr>\n",
       "      <th>4</th>\n",
       "      <td>1954-12-31</td>\n",
       "      <td>5.902</td>\n",
       "      <td>-0.02</td>\n",
       "    </tr>\n",
       "  </tbody>\n",
       "</table>\n",
       "</div>"
      ],
      "text/plain": [
       "         date   Births per Woman   Annual % Change\n",
       "0  1950-12-31              5.907               NaN\n",
       "1  1951-12-31              5.906             -0.02\n",
       "2  1952-12-31              5.904             -0.03\n",
       "3  1953-12-31              5.903             -0.02\n",
       "4  1954-12-31              5.902             -0.02"
      ]
     },
     "execution_count": 6,
     "metadata": {},
     "output_type": "execute_result"
    }
   ],
   "source": [
    "fert_df = pd.read_csv(\"Datasets/india-population-fertitltyrate.csv\",skiprows=15)\n",
    "fert_df.head()"
   ]
  },
  {
   "cell_type": "markdown",
   "metadata": {},
   "source": [
    "#### **``5. Infant Mortality Rate Data``**"
   ]
  },
  {
   "cell_type": "code",
   "execution_count": 7,
   "metadata": {},
   "outputs": [
    {
     "data": {
      "text/html": [
       "<div>\n",
       "<style scoped>\n",
       "    .dataframe tbody tr th:only-of-type {\n",
       "        vertical-align: middle;\n",
       "    }\n",
       "\n",
       "    .dataframe tbody tr th {\n",
       "        vertical-align: top;\n",
       "    }\n",
       "\n",
       "    .dataframe thead th {\n",
       "        text-align: right;\n",
       "    }\n",
       "</style>\n",
       "<table border=\"1\" class=\"dataframe\">\n",
       "  <thead>\n",
       "    <tr style=\"text-align: right;\">\n",
       "      <th></th>\n",
       "      <th>date</th>\n",
       "      <th>Deaths per 1000 Live Births</th>\n",
       "      <th>Annual % Change</th>\n",
       "    </tr>\n",
       "  </thead>\n",
       "  <tbody>\n",
       "    <tr>\n",
       "      <th>0</th>\n",
       "      <td>1950-12-31</td>\n",
       "      <td>189.629</td>\n",
       "      <td>NaN</td>\n",
       "    </tr>\n",
       "    <tr>\n",
       "      <th>1</th>\n",
       "      <td>1951-12-31</td>\n",
       "      <td>186.737</td>\n",
       "      <td>-1.53</td>\n",
       "    </tr>\n",
       "    <tr>\n",
       "      <th>2</th>\n",
       "      <td>1952-12-31</td>\n",
       "      <td>183.846</td>\n",
       "      <td>-1.55</td>\n",
       "    </tr>\n",
       "    <tr>\n",
       "      <th>3</th>\n",
       "      <td>1953-12-31</td>\n",
       "      <td>180.954</td>\n",
       "      <td>-1.57</td>\n",
       "    </tr>\n",
       "    <tr>\n",
       "      <th>4</th>\n",
       "      <td>1954-12-31</td>\n",
       "      <td>178.062</td>\n",
       "      <td>-1.60</td>\n",
       "    </tr>\n",
       "  </tbody>\n",
       "</table>\n",
       "</div>"
      ],
      "text/plain": [
       "         date   Deaths per 1000 Live Births   Annual % Change\n",
       "0  1950-12-31                       189.629               NaN\n",
       "1  1951-12-31                       186.737             -1.53\n",
       "2  1952-12-31                       183.846             -1.55\n",
       "3  1953-12-31                       180.954             -1.57\n",
       "4  1954-12-31                       178.062             -1.60"
      ]
     },
     "execution_count": 7,
     "metadata": {},
     "output_type": "execute_result"
    }
   ],
   "source": [
    "infant_mort_df = pd.read_csv(\"Datasets/india-population-infantmr.csv\",skiprows=15)\n",
    "infant_mort_df.head()"
   ]
  },
  {
   "cell_type": "markdown",
   "metadata": {},
   "source": [
    "#### **``6. Life Expectancy Rate Data``**"
   ]
  },
  {
   "cell_type": "code",
   "execution_count": 8,
   "metadata": {},
   "outputs": [
    {
     "data": {
      "text/html": [
       "<div>\n",
       "<style scoped>\n",
       "    .dataframe tbody tr th:only-of-type {\n",
       "        vertical-align: middle;\n",
       "    }\n",
       "\n",
       "    .dataframe tbody tr th {\n",
       "        vertical-align: top;\n",
       "    }\n",
       "\n",
       "    .dataframe thead th {\n",
       "        text-align: right;\n",
       "    }\n",
       "</style>\n",
       "<table border=\"1\" class=\"dataframe\">\n",
       "  <thead>\n",
       "    <tr style=\"text-align: right;\">\n",
       "      <th></th>\n",
       "      <th>date</th>\n",
       "      <th>Life Expectancy from Birth (Years)</th>\n",
       "      <th>Annual % Change</th>\n",
       "    </tr>\n",
       "  </thead>\n",
       "  <tbody>\n",
       "    <tr>\n",
       "      <th>0</th>\n",
       "      <td>1950-12-31</td>\n",
       "      <td>35.21</td>\n",
       "      <td>NaN</td>\n",
       "    </tr>\n",
       "    <tr>\n",
       "      <th>1</th>\n",
       "      <td>1951-12-31</td>\n",
       "      <td>35.80</td>\n",
       "      <td>1.68</td>\n",
       "    </tr>\n",
       "    <tr>\n",
       "      <th>2</th>\n",
       "      <td>1952-12-31</td>\n",
       "      <td>36.39</td>\n",
       "      <td>1.65</td>\n",
       "    </tr>\n",
       "    <tr>\n",
       "      <th>3</th>\n",
       "      <td>1953-12-31</td>\n",
       "      <td>36.98</td>\n",
       "      <td>1.62</td>\n",
       "    </tr>\n",
       "    <tr>\n",
       "      <th>4</th>\n",
       "      <td>1954-12-31</td>\n",
       "      <td>37.57</td>\n",
       "      <td>1.60</td>\n",
       "    </tr>\n",
       "  </tbody>\n",
       "</table>\n",
       "</div>"
      ],
      "text/plain": [
       "         date   Life Expectancy from Birth (Years)   Annual % Change\n",
       "0  1950-12-31                                35.21               NaN\n",
       "1  1951-12-31                                35.80              1.68\n",
       "2  1952-12-31                                36.39              1.65\n",
       "3  1953-12-31                                36.98              1.62\n",
       "4  1954-12-31                                37.57              1.60"
      ]
     },
     "execution_count": 8,
     "metadata": {},
     "output_type": "execute_result"
    }
   ],
   "source": [
    "life_expect_df = pd.read_csv(\"Datasets/india-population-lifeexp.csv\",skiprows=15)\n",
    "life_expect_df.head()"
   ]
  },
  {
   "cell_type": "markdown",
   "metadata": {},
   "source": [
    "#### **``7. Rural Population Data``**"
   ]
  },
  {
   "cell_type": "code",
   "execution_count": 9,
   "metadata": {},
   "outputs": [
    {
     "data": {
      "text/html": [
       "<div>\n",
       "<style scoped>\n",
       "    .dataframe tbody tr th:only-of-type {\n",
       "        vertical-align: middle;\n",
       "    }\n",
       "\n",
       "    .dataframe tbody tr th {\n",
       "        vertical-align: top;\n",
       "    }\n",
       "\n",
       "    .dataframe thead th {\n",
       "        text-align: right;\n",
       "    }\n",
       "</style>\n",
       "<table border=\"1\" class=\"dataframe\">\n",
       "  <thead>\n",
       "    <tr style=\"text-align: right;\">\n",
       "      <th></th>\n",
       "      <th>date</th>\n",
       "      <th>Rural Population</th>\n",
       "      <th>% of Total</th>\n",
       "      <th>Annual % Change</th>\n",
       "    </tr>\n",
       "  </thead>\n",
       "  <tbody>\n",
       "    <tr>\n",
       "      <th>0</th>\n",
       "      <td>1960-12-31</td>\n",
       "      <td>369791513</td>\n",
       "      <td>82.076</td>\n",
       "      <td>1.8770</td>\n",
       "    </tr>\n",
       "    <tr>\n",
       "      <th>1</th>\n",
       "      <td>1961-12-31</td>\n",
       "      <td>376759490</td>\n",
       "      <td>81.968</td>\n",
       "      <td>1.8668</td>\n",
       "    </tr>\n",
       "    <tr>\n",
       "      <th>2</th>\n",
       "      <td>1962-12-31</td>\n",
       "      <td>383620708</td>\n",
       "      <td>81.782</td>\n",
       "      <td>1.8047</td>\n",
       "    </tr>\n",
       "    <tr>\n",
       "      <th>3</th>\n",
       "      <td>1963-12-31</td>\n",
       "      <td>390697755</td>\n",
       "      <td>81.595</td>\n",
       "      <td>1.8280</td>\n",
       "    </tr>\n",
       "    <tr>\n",
       "      <th>4</th>\n",
       "      <td>1964-12-31</td>\n",
       "      <td>397946824</td>\n",
       "      <td>81.405</td>\n",
       "      <td>1.8384</td>\n",
       "    </tr>\n",
       "  </tbody>\n",
       "</table>\n",
       "</div>"
      ],
      "text/plain": [
       "         date   Rural Population   % of Total   Annual % Change\n",
       "0  1960-12-31          369791513       82.076            1.8770\n",
       "1  1961-12-31          376759490       81.968            1.8668\n",
       "2  1962-12-31          383620708       81.782            1.8047\n",
       "3  1963-12-31          390697755       81.595            1.8280\n",
       "4  1964-12-31          397946824       81.405            1.8384"
      ]
     },
     "execution_count": 9,
     "metadata": {},
     "output_type": "execute_result"
    }
   ],
   "source": [
    "rural_pop_df = pd.read_csv(\"Datasets/india-rural-population.csv\",skiprows=16)\n",
    "rural_pop_df.head()"
   ]
  },
  {
   "cell_type": "markdown",
   "metadata": {},
   "source": [
    "#### **``8. Urban Population Data``**"
   ]
  },
  {
   "cell_type": "code",
   "execution_count": 10,
   "metadata": {},
   "outputs": [
    {
     "data": {
      "text/html": [
       "<div>\n",
       "<style scoped>\n",
       "    .dataframe tbody tr th:only-of-type {\n",
       "        vertical-align: middle;\n",
       "    }\n",
       "\n",
       "    .dataframe tbody tr th {\n",
       "        vertical-align: top;\n",
       "    }\n",
       "\n",
       "    .dataframe thead th {\n",
       "        text-align: right;\n",
       "    }\n",
       "</style>\n",
       "<table border=\"1\" class=\"dataframe\">\n",
       "  <thead>\n",
       "    <tr style=\"text-align: right;\">\n",
       "      <th></th>\n",
       "      <th>date</th>\n",
       "      <th>Urban Population</th>\n",
       "      <th>% of Total</th>\n",
       "      <th>Annual % Change</th>\n",
       "    </tr>\n",
       "  </thead>\n",
       "  <tbody>\n",
       "    <tr>\n",
       "      <th>0</th>\n",
       "      <td>1960-12-31</td>\n",
       "      <td>80756166</td>\n",
       "      <td>17.924</td>\n",
       "      <td>2.3467</td>\n",
       "    </tr>\n",
       "    <tr>\n",
       "      <th>1</th>\n",
       "      <td>1961-12-31</td>\n",
       "      <td>82882675</td>\n",
       "      <td>18.032</td>\n",
       "      <td>2.5992</td>\n",
       "    </tr>\n",
       "    <tr>\n",
       "      <th>2</th>\n",
       "      <td>1962-12-31</td>\n",
       "      <td>85456482</td>\n",
       "      <td>18.218</td>\n",
       "      <td>3.0581</td>\n",
       "    </tr>\n",
       "    <tr>\n",
       "      <th>3</th>\n",
       "      <td>1963-12-31</td>\n",
       "      <td>88127853</td>\n",
       "      <td>18.405</td>\n",
       "      <td>3.0781</td>\n",
       "    </tr>\n",
       "    <tr>\n",
       "      <th>4</th>\n",
       "      <td>1964-12-31</td>\n",
       "      <td>90901311</td>\n",
       "      <td>18.595</td>\n",
       "      <td>3.0986</td>\n",
       "    </tr>\n",
       "  </tbody>\n",
       "</table>\n",
       "</div>"
      ],
      "text/plain": [
       "         date   Urban Population   % of Total   Annual % Change\n",
       "0  1960-12-31           80756166       17.924            2.3467\n",
       "1  1961-12-31           82882675       18.032            2.5992\n",
       "2  1962-12-31           85456482       18.218            3.0581\n",
       "3  1963-12-31           88127853       18.405            3.0781\n",
       "4  1964-12-31           90901311       18.595            3.0986"
      ]
     },
     "execution_count": 10,
     "metadata": {},
     "output_type": "execute_result"
    }
   ],
   "source": [
    "urban_pop_df = pd.read_csv(\"Datasets/india-urban-population.csv\",skiprows=16)\n",
    "urban_pop_df.head()"
   ]
  },
  {
   "cell_type": "markdown",
   "metadata": {},
   "source": [
    "#### **``9. Suicide Rate Data``**"
   ]
  },
  {
   "cell_type": "code",
   "execution_count": 11,
   "metadata": {},
   "outputs": [
    {
     "data": {
      "text/html": [
       "<div>\n",
       "<style scoped>\n",
       "    .dataframe tbody tr th:only-of-type {\n",
       "        vertical-align: middle;\n",
       "    }\n",
       "\n",
       "    .dataframe tbody tr th {\n",
       "        vertical-align: top;\n",
       "    }\n",
       "\n",
       "    .dataframe thead th {\n",
       "        text-align: right;\n",
       "    }\n",
       "</style>\n",
       "<table border=\"1\" class=\"dataframe\">\n",
       "  <thead>\n",
       "    <tr style=\"text-align: right;\">\n",
       "      <th></th>\n",
       "      <th>date</th>\n",
       "      <th>Total</th>\n",
       "      <th>Male</th>\n",
       "      <th>Female</th>\n",
       "    </tr>\n",
       "  </thead>\n",
       "  <tbody>\n",
       "    <tr>\n",
       "      <th>0</th>\n",
       "      <td>31/12/2000</td>\n",
       "      <td>17.40</td>\n",
       "      <td>18.6</td>\n",
       "      <td>16.0</td>\n",
       "    </tr>\n",
       "    <tr>\n",
       "      <th>1</th>\n",
       "      <td>31/12/2005</td>\n",
       "      <td>17.60</td>\n",
       "      <td>18.1</td>\n",
       "      <td>17.1</td>\n",
       "    </tr>\n",
       "    <tr>\n",
       "      <th>2</th>\n",
       "      <td>31/12/2010</td>\n",
       "      <td>16.50</td>\n",
       "      <td>17.7</td>\n",
       "      <td>15.2</td>\n",
       "    </tr>\n",
       "    <tr>\n",
       "      <th>3</th>\n",
       "      <td>31/12/2015</td>\n",
       "      <td>16.50</td>\n",
       "      <td>18.5</td>\n",
       "      <td>14.9</td>\n",
       "    </tr>\n",
       "    <tr>\n",
       "      <th>4</th>\n",
       "      <td>31/12/2016</td>\n",
       "      <td>16.30</td>\n",
       "      <td>18.0</td>\n",
       "      <td>14.7</td>\n",
       "    </tr>\n",
       "    <tr>\n",
       "      <th>5</th>\n",
       "      <td>31/12/2016</td>\n",
       "      <td>17.95</td>\n",
       "      <td>21.2</td>\n",
       "      <td>14.7</td>\n",
       "    </tr>\n",
       "    <tr>\n",
       "      <th>6</th>\n",
       "      <td>31/12/2019</td>\n",
       "      <td>21.10</td>\n",
       "      <td>25.8</td>\n",
       "      <td>16.4</td>\n",
       "    </tr>\n",
       "  </tbody>\n",
       "</table>\n",
       "</div>"
      ],
      "text/plain": [
       "         date   Total   Male   Female\n",
       "0  31/12/2000   17.40   18.6     16.0\n",
       "1  31/12/2005   17.60   18.1     17.1\n",
       "2  31/12/2010   16.50   17.7     15.2\n",
       "3  31/12/2015   16.50   18.5     14.9\n",
       "4  31/12/2016   16.30   18.0     14.7\n",
       "5  31/12/2016   17.95   21.2     14.7\n",
       "6  31/12/2019   21.10   25.8     16.4"
      ]
     },
     "execution_count": 11,
     "metadata": {},
     "output_type": "execute_result"
    }
   ],
   "source": [
    "suicide_rate_df = pd.read_csv(\"Datasets/india-suicide-rate.csv\",skiprows=16)\n",
    "suicide_rate_df"
   ]
  },
  {
   "cell_type": "code",
   "execution_count": 12,
   "metadata": {},
   "outputs": [
    {
     "data": {
      "text/html": [
       "<div>\n",
       "<style scoped>\n",
       "    .dataframe tbody tr th:only-of-type {\n",
       "        vertical-align: middle;\n",
       "    }\n",
       "\n",
       "    .dataframe tbody tr th {\n",
       "        vertical-align: top;\n",
       "    }\n",
       "\n",
       "    .dataframe thead th {\n",
       "        text-align: right;\n",
       "    }\n",
       "</style>\n",
       "<table border=\"1\" class=\"dataframe\">\n",
       "  <thead>\n",
       "    <tr style=\"text-align: right;\">\n",
       "      <th></th>\n",
       "      <th>date</th>\n",
       "      <th>Total</th>\n",
       "      <th>Male</th>\n",
       "      <th>Female</th>\n",
       "    </tr>\n",
       "  </thead>\n",
       "  <tbody>\n",
       "    <tr>\n",
       "      <th>0</th>\n",
       "      <td>31/12/2000</td>\n",
       "      <td>17.4</td>\n",
       "      <td>18.6</td>\n",
       "      <td>16.0</td>\n",
       "    </tr>\n",
       "    <tr>\n",
       "      <th>1</th>\n",
       "      <td>31/12/2005</td>\n",
       "      <td>17.6</td>\n",
       "      <td>18.1</td>\n",
       "      <td>17.1</td>\n",
       "    </tr>\n",
       "    <tr>\n",
       "      <th>2</th>\n",
       "      <td>31/12/2010</td>\n",
       "      <td>16.5</td>\n",
       "      <td>17.7</td>\n",
       "      <td>15.2</td>\n",
       "    </tr>\n",
       "    <tr>\n",
       "      <th>3</th>\n",
       "      <td>31/12/2015</td>\n",
       "      <td>16.5</td>\n",
       "      <td>18.5</td>\n",
       "      <td>14.9</td>\n",
       "    </tr>\n",
       "    <tr>\n",
       "      <th>4</th>\n",
       "      <td>31/12/2016</td>\n",
       "      <td>16.3</td>\n",
       "      <td>18.0</td>\n",
       "      <td>14.7</td>\n",
       "    </tr>\n",
       "    <tr>\n",
       "      <th>6</th>\n",
       "      <td>31/12/2019</td>\n",
       "      <td>21.1</td>\n",
       "      <td>25.8</td>\n",
       "      <td>16.4</td>\n",
       "    </tr>\n",
       "  </tbody>\n",
       "</table>\n",
       "</div>"
      ],
      "text/plain": [
       "         date   Total   Male   Female\n",
       "0  31/12/2000    17.4   18.6     16.0\n",
       "1  31/12/2005    17.6   18.1     17.1\n",
       "2  31/12/2010    16.5   17.7     15.2\n",
       "3  31/12/2015    16.5   18.5     14.9\n",
       "4  31/12/2016    16.3   18.0     14.7\n",
       "6  31/12/2019    21.1   25.8     16.4"
      ]
     },
     "execution_count": 12,
     "metadata": {},
     "output_type": "execute_result"
    }
   ],
   "source": [
    "suicide_rate_df.drop_duplicates(subset='date',keep='first',inplace=True)\n",
    "suicide_rate_df"
   ]
  },
  {
   "cell_type": "markdown",
   "metadata": {},
   "source": [
    "#### **``Initial Pre-processing of dataframes``**"
   ]
  },
  {
   "cell_type": "code",
   "execution_count": 13,
   "metadata": {},
   "outputs": [
    {
     "name": "stdout",
     "output_type": "stream",
     "text": [
      "<class 'pandas.core.frame.DataFrame'>\n",
      "RangeIndex: 151 entries, 0 to 150\n",
      "Data columns (total 3 columns):\n",
      " #   Column            Non-Null Count  Dtype  \n",
      "---  ------            --------------  -----  \n",
      " 0   date              151 non-null    object \n",
      " 1    Population       151 non-null    int64  \n",
      " 2    Annual % Change  150 non-null    float64\n",
      "dtypes: float64(1), int64(1), object(1)\n",
      "memory usage: 3.7+ KB\n"
     ]
    }
   ],
   "source": [
    "total_pop_df.info()"
   ]
  },
  {
   "cell_type": "code",
   "execution_count": 14,
   "metadata": {},
   "outputs": [
    {
     "name": "stdout",
     "output_type": "stream",
     "text": [
      "<class 'pandas.core.frame.DataFrame'>\n",
      "RangeIndex: 151 entries, 0 to 150\n",
      "Data columns (total 3 columns):\n",
      " #   Column                   Non-Null Count  Dtype  \n",
      "---  ------                   --------------  -----  \n",
      " 0   date                     151 non-null    object \n",
      " 1    Births per 1000 People  151 non-null    float64\n",
      " 2    Annual % Change         150 non-null    float64\n",
      "dtypes: float64(2), object(1)\n",
      "memory usage: 3.7+ KB\n"
     ]
    }
   ],
   "source": [
    "cbr_df.info()"
   ]
  },
  {
   "cell_type": "code",
   "execution_count": 15,
   "metadata": {},
   "outputs": [
    {
     "name": "stdout",
     "output_type": "stream",
     "text": [
      "<class 'pandas.core.frame.DataFrame'>\n",
      "RangeIndex: 151 entries, 0 to 150\n",
      "Data columns (total 3 columns):\n",
      " #   Column                   Non-Null Count  Dtype  \n",
      "---  ------                   --------------  -----  \n",
      " 0   date                     151 non-null    object \n",
      " 1    Deaths per 1000 People  151 non-null    float64\n",
      " 2    Annual % Change         150 non-null    float64\n",
      "dtypes: float64(2), object(1)\n",
      "memory usage: 3.7+ KB\n"
     ]
    }
   ],
   "source": [
    "dr_df.info()"
   ]
  },
  {
   "cell_type": "code",
   "execution_count": 16,
   "metadata": {},
   "outputs": [
    {
     "name": "stdout",
     "output_type": "stream",
     "text": [
      "<class 'pandas.core.frame.DataFrame'>\n",
      "RangeIndex: 151 entries, 0 to 150\n",
      "Data columns (total 3 columns):\n",
      " #   Column             Non-Null Count  Dtype  \n",
      "---  ------             --------------  -----  \n",
      " 0   date               151 non-null    object \n",
      " 1    Births per Woman  151 non-null    float64\n",
      " 2    Annual % Change   150 non-null    float64\n",
      "dtypes: float64(2), object(1)\n",
      "memory usage: 3.7+ KB\n"
     ]
    }
   ],
   "source": [
    "fert_df.info()"
   ]
  },
  {
   "cell_type": "code",
   "execution_count": 17,
   "metadata": {},
   "outputs": [
    {
     "name": "stdout",
     "output_type": "stream",
     "text": [
      "<class 'pandas.core.frame.DataFrame'>\n",
      "RangeIndex: 151 entries, 0 to 150\n",
      "Data columns (total 3 columns):\n",
      " #   Column                        Non-Null Count  Dtype  \n",
      "---  ------                        --------------  -----  \n",
      " 0   date                          151 non-null    object \n",
      " 1    Deaths per 1000 Live Births  151 non-null    float64\n",
      " 2    Annual % Change              150 non-null    float64\n",
      "dtypes: float64(2), object(1)\n",
      "memory usage: 3.7+ KB\n"
     ]
    }
   ],
   "source": [
    "infant_mort_df.info()"
   ]
  },
  {
   "cell_type": "code",
   "execution_count": 18,
   "metadata": {},
   "outputs": [
    {
     "name": "stdout",
     "output_type": "stream",
     "text": [
      "<class 'pandas.core.frame.DataFrame'>\n",
      "RangeIndex: 151 entries, 0 to 150\n",
      "Data columns (total 3 columns):\n",
      " #   Column                               Non-Null Count  Dtype  \n",
      "---  ------                               --------------  -----  \n",
      " 0   date                                 151 non-null    object \n",
      " 1    Life Expectancy from Birth (Years)  151 non-null    float64\n",
      " 2    Annual % Change                     150 non-null    float64\n",
      "dtypes: float64(2), object(1)\n",
      "memory usage: 3.7+ KB\n"
     ]
    }
   ],
   "source": [
    "life_expect_df.info()"
   ]
  },
  {
   "cell_type": "code",
   "execution_count": 19,
   "metadata": {},
   "outputs": [
    {
     "name": "stdout",
     "output_type": "stream",
     "text": [
      "<class 'pandas.core.frame.DataFrame'>\n",
      "RangeIndex: 59 entries, 0 to 58\n",
      "Data columns (total 4 columns):\n",
      " #   Column             Non-Null Count  Dtype  \n",
      "---  ------             --------------  -----  \n",
      " 0   date               59 non-null     object \n",
      " 1    Rural Population  59 non-null     int64  \n",
      " 2    % of Total        59 non-null     float64\n",
      " 3    Annual % Change   59 non-null     float64\n",
      "dtypes: float64(2), int64(1), object(1)\n",
      "memory usage: 2.0+ KB\n"
     ]
    }
   ],
   "source": [
    "rural_pop_df.info()"
   ]
  },
  {
   "cell_type": "code",
   "execution_count": 20,
   "metadata": {},
   "outputs": [
    {
     "name": "stdout",
     "output_type": "stream",
     "text": [
      "<class 'pandas.core.frame.DataFrame'>\n",
      "RangeIndex: 59 entries, 0 to 58\n",
      "Data columns (total 4 columns):\n",
      " #   Column             Non-Null Count  Dtype  \n",
      "---  ------             --------------  -----  \n",
      " 0   date               59 non-null     object \n",
      " 1    Urban Population  59 non-null     int64  \n",
      " 2    % of Total        59 non-null     float64\n",
      " 3    Annual % Change   59 non-null     float64\n",
      "dtypes: float64(2), int64(1), object(1)\n",
      "memory usage: 2.0+ KB\n"
     ]
    }
   ],
   "source": [
    "urban_pop_df.info()"
   ]
  },
  {
   "cell_type": "code",
   "execution_count": 21,
   "metadata": {},
   "outputs": [
    {
     "name": "stdout",
     "output_type": "stream",
     "text": [
      "<class 'pandas.core.frame.DataFrame'>\n",
      "Int64Index: 6 entries, 0 to 6\n",
      "Data columns (total 4 columns):\n",
      " #   Column   Non-Null Count  Dtype  \n",
      "---  ------   --------------  -----  \n",
      " 0   date     6 non-null      object \n",
      " 1    Total   6 non-null      float64\n",
      " 2    Male    6 non-null      float64\n",
      " 3    Female  6 non-null      float64\n",
      "dtypes: float64(3), object(1)\n",
      "memory usage: 240.0+ bytes\n"
     ]
    }
   ],
   "source": [
    "suicide_rate_df.info()"
   ]
  },
  {
   "cell_type": "markdown",
   "metadata": {},
   "source": [
    "#### **``Few things to joot down here:``**\n",
    "##### **1. In every dataframe 'date' column is of string datatype which needs to be converted to a datatime column.**\n",
    "##### **2. The other two columns in every dataframe contains an unwanted space in their names which needs to be removed.**\n",
    "##### **3. Capitalize the column names to provide the uniformity.**\n",
    "##### **4. Rural and Urban Population dataframes are having less number of records as compare to others(investigate it later, these might not be having the post 2019 prediction records).**\n",
    "##### **5. For Suicide Rate only 6 years data is available and for 2016 there are multiple records which will be investigated later.**  "
   ]
  },
  {
   "cell_type": "code",
   "execution_count": 22,
   "metadata": {},
   "outputs": [
    {
     "data": {
      "text/html": [
       "<div>\n",
       "<style scoped>\n",
       "    .dataframe tbody tr th:only-of-type {\n",
       "        vertical-align: middle;\n",
       "    }\n",
       "\n",
       "    .dataframe tbody tr th {\n",
       "        vertical-align: top;\n",
       "    }\n",
       "\n",
       "    .dataframe thead th {\n",
       "        text-align: right;\n",
       "    }\n",
       "</style>\n",
       "<table border=\"1\" class=\"dataframe\">\n",
       "  <thead>\n",
       "    <tr style=\"text-align: right;\">\n",
       "      <th></th>\n",
       "      <th>date</th>\n",
       "      <th>Population</th>\n",
       "      <th>Annual % Change</th>\n",
       "    </tr>\n",
       "  </thead>\n",
       "  <tbody>\n",
       "    <tr>\n",
       "      <th>0</th>\n",
       "      <td>1950-12-31</td>\n",
       "      <td>376325200</td>\n",
       "      <td>NaN</td>\n",
       "    </tr>\n",
       "    <tr>\n",
       "      <th>1</th>\n",
       "      <td>1951-12-31</td>\n",
       "      <td>382376948</td>\n",
       "      <td>1.61</td>\n",
       "    </tr>\n",
       "    <tr>\n",
       "      <th>2</th>\n",
       "      <td>1952-12-31</td>\n",
       "      <td>388799073</td>\n",
       "      <td>1.68</td>\n",
       "    </tr>\n",
       "    <tr>\n",
       "      <th>3</th>\n",
       "      <td>1953-12-31</td>\n",
       "      <td>395544369</td>\n",
       "      <td>1.73</td>\n",
       "    </tr>\n",
       "    <tr>\n",
       "      <th>4</th>\n",
       "      <td>1954-12-31</td>\n",
       "      <td>402578596</td>\n",
       "      <td>1.78</td>\n",
       "    </tr>\n",
       "  </tbody>\n",
       "</table>\n",
       "</div>"
      ],
      "text/plain": [
       "         date   Population   Annual % Change\n",
       "0  1950-12-31    376325200               NaN\n",
       "1  1951-12-31    382376948              1.61\n",
       "2  1952-12-31    388799073              1.68\n",
       "3  1953-12-31    395544369              1.73\n",
       "4  1954-12-31    402578596              1.78"
      ]
     },
     "execution_count": 22,
     "metadata": {},
     "output_type": "execute_result"
    }
   ],
   "source": [
    "total_pop_df.head()"
   ]
  },
  {
   "cell_type": "code",
   "execution_count": 23,
   "metadata": {},
   "outputs": [],
   "source": [
    "def data_cleaning(d_frame):\n",
    "    \"\"\"\n",
    "    Description: This function is performing below operations:\n",
    "            1. Columns uniformity \n",
    "            2. Filtering the records where year > 2019\n",
    "            3. Assigning the Date column of every dataframe as Index\n",
    "    \n",
    "    Input Parameters: It accepts:\n",
    "            1. d_frame: DataFrame object \n",
    "    \"\"\"\n",
    "    d_frame.iloc[:,0] = pd.to_datetime(d_frame.iloc[:,0])\n",
    "    d_frame.columns = ([str.capitalize(str.strip(col)) for col in d_frame.columns])\n",
    "    d_frame.where(d_frame.iloc[:,0].dt.year <= 2019,inplace=True)\n",
    "    d_frame.drop_duplicates(keep=False,inplace=True)\n",
    "    d_frame.index = d_frame[d_frame.columns[0]]\n",
    "    d_frame.drop([d_frame.columns[0]],axis=1,inplace=True)"
   ]
  },
  {
   "cell_type": "code",
   "execution_count": 24,
   "metadata": {},
   "outputs": [],
   "source": [
    "all_data_frames = [total_pop_df,cbr_df,dr_df,fert_df,infant_mort_df,life_expect_df,rural_pop_df,urban_pop_df,suicide_rate_df]\n",
    "for df in all_data_frames:\n",
    "    data_cleaning(d_frame=df)"
   ]
  },
  {
   "cell_type": "markdown",
   "metadata": {},
   "source": [
    "##### **``Now, let's analyse every dataframe one at a time...``**"
   ]
  },
  {
   "cell_type": "code",
   "execution_count": 25,
   "metadata": {},
   "outputs": [
    {
     "name": "stdout",
     "output_type": "stream",
     "text": [
      "DataFrame ::  total_pop_df \n",
      "\n",
      "<class 'pandas.core.frame.DataFrame'>\n",
      "DatetimeIndex: 70 entries, 1950-12-31 to 2019-12-31\n",
      "Data columns (total 2 columns):\n",
      " #   Column           Non-Null Count  Dtype  \n",
      "---  ------           --------------  -----  \n",
      " 0   Population       70 non-null     float64\n",
      " 1   Annual % change  69 non-null     float64\n",
      "dtypes: float64(2)\n",
      "memory usage: 1.6 KB\n",
      "Starting Date: 1950-12-31 00:00:00\n",
      "Latest Date: 2019-12-31 00:00:00\n",
      "\n",
      "\n",
      "DataFrame ::  cbr_df \n",
      "\n",
      "<class 'pandas.core.frame.DataFrame'>\n",
      "DatetimeIndex: 70 entries, 1950-12-31 to 2019-12-31\n",
      "Data columns (total 2 columns):\n",
      " #   Column                  Non-Null Count  Dtype  \n",
      "---  ------                  --------------  -----  \n",
      " 0   Births per 1000 people  70 non-null     float64\n",
      " 1   Annual % change         69 non-null     float64\n",
      "dtypes: float64(2)\n",
      "memory usage: 1.6 KB\n",
      "Starting Date: 1950-12-31 00:00:00\n",
      "Latest Date: 2019-12-31 00:00:00\n",
      "\n",
      "\n",
      "DataFrame ::  dr_df \n",
      "\n",
      "<class 'pandas.core.frame.DataFrame'>\n",
      "DatetimeIndex: 70 entries, 1950-12-31 to 2019-12-31\n",
      "Data columns (total 2 columns):\n",
      " #   Column                  Non-Null Count  Dtype  \n",
      "---  ------                  --------------  -----  \n",
      " 0   Deaths per 1000 people  70 non-null     float64\n",
      " 1   Annual % change         69 non-null     float64\n",
      "dtypes: float64(2)\n",
      "memory usage: 1.6 KB\n",
      "Starting Date: 1950-12-31 00:00:00\n",
      "Latest Date: 2019-12-31 00:00:00\n",
      "\n",
      "\n",
      "DataFrame ::  fert_df \n",
      "\n",
      "<class 'pandas.core.frame.DataFrame'>\n",
      "DatetimeIndex: 70 entries, 1950-12-31 to 2019-12-31\n",
      "Data columns (total 2 columns):\n",
      " #   Column            Non-Null Count  Dtype  \n",
      "---  ------            --------------  -----  \n",
      " 0   Births per woman  70 non-null     float64\n",
      " 1   Annual % change   69 non-null     float64\n",
      "dtypes: float64(2)\n",
      "memory usage: 1.6 KB\n",
      "Starting Date: 1950-12-31 00:00:00\n",
      "Latest Date: 2019-12-31 00:00:00\n",
      "\n",
      "\n",
      "DataFrame ::  infant_mort_df \n",
      "\n",
      "<class 'pandas.core.frame.DataFrame'>\n",
      "DatetimeIndex: 70 entries, 1950-12-31 to 2019-12-31\n",
      "Data columns (total 2 columns):\n",
      " #   Column                       Non-Null Count  Dtype  \n",
      "---  ------                       --------------  -----  \n",
      " 0   Deaths per 1000 live births  70 non-null     float64\n",
      " 1   Annual % change              69 non-null     float64\n",
      "dtypes: float64(2)\n",
      "memory usage: 1.6 KB\n",
      "Starting Date: 1950-12-31 00:00:00\n",
      "Latest Date: 2019-12-31 00:00:00\n",
      "\n",
      "\n",
      "DataFrame ::  life_expect_df \n",
      "\n",
      "<class 'pandas.core.frame.DataFrame'>\n",
      "DatetimeIndex: 70 entries, 1950-12-31 to 2019-12-31\n",
      "Data columns (total 2 columns):\n",
      " #   Column                              Non-Null Count  Dtype  \n",
      "---  ------                              --------------  -----  \n",
      " 0   Life expectancy from birth (years)  70 non-null     float64\n",
      " 1   Annual % change                     69 non-null     float64\n",
      "dtypes: float64(2)\n",
      "memory usage: 1.6 KB\n",
      "Starting Date: 1950-12-31 00:00:00\n",
      "Latest Date: 2019-12-31 00:00:00\n",
      "\n",
      "\n",
      "DataFrame ::  rural_pop_df \n",
      "\n",
      "<class 'pandas.core.frame.DataFrame'>\n",
      "DatetimeIndex: 59 entries, 1960-12-31 to 2018-12-31\n",
      "Data columns (total 3 columns):\n",
      " #   Column            Non-Null Count  Dtype  \n",
      "---  ------            --------------  -----  \n",
      " 0   Rural population  59 non-null     int64  \n",
      " 1   % of total        59 non-null     float64\n",
      " 2   Annual % change   59 non-null     float64\n",
      "dtypes: float64(2), int64(1)\n",
      "memory usage: 1.8 KB\n",
      "Starting Date: 1960-12-31 00:00:00\n",
      "Latest Date: 2018-12-31 00:00:00\n",
      "\n",
      "\n",
      "DataFrame ::  urban_pop_df \n",
      "\n",
      "<class 'pandas.core.frame.DataFrame'>\n",
      "DatetimeIndex: 59 entries, 1960-12-31 to 2018-12-31\n",
      "Data columns (total 3 columns):\n",
      " #   Column            Non-Null Count  Dtype  \n",
      "---  ------            --------------  -----  \n",
      " 0   Urban population  59 non-null     int64  \n",
      " 1   % of total        59 non-null     float64\n",
      " 2   Annual % change   59 non-null     float64\n",
      "dtypes: float64(2), int64(1)\n",
      "memory usage: 1.8 KB\n",
      "Starting Date: 1960-12-31 00:00:00\n",
      "Latest Date: 2018-12-31 00:00:00\n",
      "\n",
      "\n",
      "DataFrame ::  __ \n",
      "\n",
      "<class 'pandas.core.frame.DataFrame'>\n",
      "DatetimeIndex: 6 entries, 2000-12-31 to 2019-12-31\n",
      "Data columns (total 3 columns):\n",
      " #   Column  Non-Null Count  Dtype  \n",
      "---  ------  --------------  -----  \n",
      " 0   Total   6 non-null      float64\n",
      " 1   Male    6 non-null      float64\n",
      " 2   Female  6 non-null      float64\n",
      "dtypes: float64(3)\n",
      "memory usage: 192.0 bytes\n",
      "Starting Date: 2000-12-31 00:00:00\n",
      "Latest Date: 2019-12-31 00:00:00\n",
      "\n",
      "\n"
     ]
    }
   ],
   "source": [
    "for df in all_data_frames:\n",
    "    name =[x for x in globals() if globals()[x] is df][0]\n",
    "    print('DataFrame :: ',name,'\\n')\n",
    "    df.info()\n",
    "    print('Starting Date:',df.index.min())\n",
    "    print('Latest Date:',df.index.max())\n",
    "    print('\\n')"
   ]
  },
  {
   "cell_type": "markdown",
   "metadata": {},
   "source": [
    "##### **Here, we found out that in Rural and Urban Population datasets records are not available for years 1951 to 1959 and 2019. And, Suicide Rate dataset has very records.**\n",
    "##### **Now, lets merge all the dataframes**"
   ]
  },
  {
   "cell_type": "code",
   "execution_count": 26,
   "metadata": {},
   "outputs": [],
   "source": [
    "ind_pop_df = reduce(lambda  left,right: pd.merge(left,right,on=['Date'],how='outer'), all_data_frames)"
   ]
  },
  {
   "cell_type": "code",
   "execution_count": 27,
   "metadata": {},
   "outputs": [
    {
     "data": {
      "text/plain": [
       "(70, 21)"
      ]
     },
     "execution_count": 27,
     "metadata": {},
     "output_type": "execute_result"
    }
   ],
   "source": [
    "ind_pop_df.shape"
   ]
  },
  {
   "cell_type": "code",
   "execution_count": 28,
   "metadata": {},
   "outputs": [
    {
     "data": {
      "text/html": [
       "<div>\n",
       "<style scoped>\n",
       "    .dataframe tbody tr th:only-of-type {\n",
       "        vertical-align: middle;\n",
       "    }\n",
       "\n",
       "    .dataframe tbody tr th {\n",
       "        vertical-align: top;\n",
       "    }\n",
       "\n",
       "    .dataframe thead th {\n",
       "        text-align: right;\n",
       "    }\n",
       "</style>\n",
       "<table border=\"1\" class=\"dataframe\">\n",
       "  <thead>\n",
       "    <tr style=\"text-align: right;\">\n",
       "      <th></th>\n",
       "      <th>Population</th>\n",
       "      <th>Annual % change_x</th>\n",
       "      <th>Births per 1000 people</th>\n",
       "      <th>Annual % change_y</th>\n",
       "      <th>Deaths per 1000 people</th>\n",
       "      <th>Annual % change_x</th>\n",
       "      <th>Births per woman</th>\n",
       "      <th>Annual % change_y</th>\n",
       "      <th>Deaths per 1000 live births</th>\n",
       "      <th>Annual % change_x</th>\n",
       "      <th>Life expectancy from birth (years)</th>\n",
       "      <th>Annual % change_y</th>\n",
       "      <th>Rural population</th>\n",
       "      <th>% of total_x</th>\n",
       "      <th>Annual % change_x</th>\n",
       "      <th>Urban population</th>\n",
       "      <th>% of total_y</th>\n",
       "      <th>Annual % change_y</th>\n",
       "      <th>Total</th>\n",
       "      <th>Male</th>\n",
       "      <th>Female</th>\n",
       "    </tr>\n",
       "    <tr>\n",
       "      <th>Date</th>\n",
       "      <th></th>\n",
       "      <th></th>\n",
       "      <th></th>\n",
       "      <th></th>\n",
       "      <th></th>\n",
       "      <th></th>\n",
       "      <th></th>\n",
       "      <th></th>\n",
       "      <th></th>\n",
       "      <th></th>\n",
       "      <th></th>\n",
       "      <th></th>\n",
       "      <th></th>\n",
       "      <th></th>\n",
       "      <th></th>\n",
       "      <th></th>\n",
       "      <th></th>\n",
       "      <th></th>\n",
       "      <th></th>\n",
       "      <th></th>\n",
       "      <th></th>\n",
       "    </tr>\n",
       "  </thead>\n",
       "  <tbody>\n",
       "    <tr>\n",
       "      <th>1950-12-31</th>\n",
       "      <td>376325200.0</td>\n",
       "      <td>NaN</td>\n",
       "      <td>44.175</td>\n",
       "      <td>NaN</td>\n",
       "      <td>28.161</td>\n",
       "      <td>NaN</td>\n",
       "      <td>5.907</td>\n",
       "      <td>NaN</td>\n",
       "      <td>189.629</td>\n",
       "      <td>NaN</td>\n",
       "      <td>35.21</td>\n",
       "      <td>NaN</td>\n",
       "      <td>NaN</td>\n",
       "      <td>NaN</td>\n",
       "      <td>NaN</td>\n",
       "      <td>NaN</td>\n",
       "      <td>NaN</td>\n",
       "      <td>NaN</td>\n",
       "      <td>NaN</td>\n",
       "      <td>NaN</td>\n",
       "      <td>NaN</td>\n",
       "    </tr>\n",
       "    <tr>\n",
       "      <th>1951-12-31</th>\n",
       "      <td>382376948.0</td>\n",
       "      <td>1.61</td>\n",
       "      <td>43.970</td>\n",
       "      <td>-0.46</td>\n",
       "      <td>27.584</td>\n",
       "      <td>-2.05</td>\n",
       "      <td>5.906</td>\n",
       "      <td>-0.02</td>\n",
       "      <td>186.737</td>\n",
       "      <td>-1.53</td>\n",
       "      <td>35.80</td>\n",
       "      <td>1.68</td>\n",
       "      <td>NaN</td>\n",
       "      <td>NaN</td>\n",
       "      <td>NaN</td>\n",
       "      <td>NaN</td>\n",
       "      <td>NaN</td>\n",
       "      <td>NaN</td>\n",
       "      <td>NaN</td>\n",
       "      <td>NaN</td>\n",
       "      <td>NaN</td>\n",
       "    </tr>\n",
       "    <tr>\n",
       "      <th>1952-12-31</th>\n",
       "      <td>388799073.0</td>\n",
       "      <td>1.68</td>\n",
       "      <td>43.764</td>\n",
       "      <td>-0.47</td>\n",
       "      <td>27.008</td>\n",
       "      <td>-2.09</td>\n",
       "      <td>5.904</td>\n",
       "      <td>-0.03</td>\n",
       "      <td>183.846</td>\n",
       "      <td>-1.55</td>\n",
       "      <td>36.39</td>\n",
       "      <td>1.65</td>\n",
       "      <td>NaN</td>\n",
       "      <td>NaN</td>\n",
       "      <td>NaN</td>\n",
       "      <td>NaN</td>\n",
       "      <td>NaN</td>\n",
       "      <td>NaN</td>\n",
       "      <td>NaN</td>\n",
       "      <td>NaN</td>\n",
       "      <td>NaN</td>\n",
       "    </tr>\n",
       "    <tr>\n",
       "      <th>1953-12-31</th>\n",
       "      <td>395544369.0</td>\n",
       "      <td>1.73</td>\n",
       "      <td>43.558</td>\n",
       "      <td>-0.47</td>\n",
       "      <td>26.432</td>\n",
       "      <td>-2.13</td>\n",
       "      <td>5.903</td>\n",
       "      <td>-0.02</td>\n",
       "      <td>180.954</td>\n",
       "      <td>-1.57</td>\n",
       "      <td>36.98</td>\n",
       "      <td>1.62</td>\n",
       "      <td>NaN</td>\n",
       "      <td>NaN</td>\n",
       "      <td>NaN</td>\n",
       "      <td>NaN</td>\n",
       "      <td>NaN</td>\n",
       "      <td>NaN</td>\n",
       "      <td>NaN</td>\n",
       "      <td>NaN</td>\n",
       "      <td>NaN</td>\n",
       "    </tr>\n",
       "    <tr>\n",
       "      <th>1954-12-31</th>\n",
       "      <td>402578596.0</td>\n",
       "      <td>1.78</td>\n",
       "      <td>43.352</td>\n",
       "      <td>-0.47</td>\n",
       "      <td>25.856</td>\n",
       "      <td>-2.18</td>\n",
       "      <td>5.902</td>\n",
       "      <td>-0.02</td>\n",
       "      <td>178.062</td>\n",
       "      <td>-1.60</td>\n",
       "      <td>37.57</td>\n",
       "      <td>1.60</td>\n",
       "      <td>NaN</td>\n",
       "      <td>NaN</td>\n",
       "      <td>NaN</td>\n",
       "      <td>NaN</td>\n",
       "      <td>NaN</td>\n",
       "      <td>NaN</td>\n",
       "      <td>NaN</td>\n",
       "      <td>NaN</td>\n",
       "      <td>NaN</td>\n",
       "    </tr>\n",
       "  </tbody>\n",
       "</table>\n",
       "</div>"
      ],
      "text/plain": [
       "             Population  Annual % change_x  Births per 1000 people  \\\n",
       "Date                                                                 \n",
       "1950-12-31  376325200.0                NaN                  44.175   \n",
       "1951-12-31  382376948.0               1.61                  43.970   \n",
       "1952-12-31  388799073.0               1.68                  43.764   \n",
       "1953-12-31  395544369.0               1.73                  43.558   \n",
       "1954-12-31  402578596.0               1.78                  43.352   \n",
       "\n",
       "            Annual % change_y  Deaths per 1000 people  Annual % change_x  \\\n",
       "Date                                                                       \n",
       "1950-12-31                NaN                  28.161                NaN   \n",
       "1951-12-31              -0.46                  27.584              -2.05   \n",
       "1952-12-31              -0.47                  27.008              -2.09   \n",
       "1953-12-31              -0.47                  26.432              -2.13   \n",
       "1954-12-31              -0.47                  25.856              -2.18   \n",
       "\n",
       "            Births per woman  Annual % change_y  Deaths per 1000 live births  \\\n",
       "Date                                                                           \n",
       "1950-12-31             5.907                NaN                      189.629   \n",
       "1951-12-31             5.906              -0.02                      186.737   \n",
       "1952-12-31             5.904              -0.03                      183.846   \n",
       "1953-12-31             5.903              -0.02                      180.954   \n",
       "1954-12-31             5.902              -0.02                      178.062   \n",
       "\n",
       "            Annual % change_x  Life expectancy from birth (years)  \\\n",
       "Date                                                                \n",
       "1950-12-31                NaN                               35.21   \n",
       "1951-12-31              -1.53                               35.80   \n",
       "1952-12-31              -1.55                               36.39   \n",
       "1953-12-31              -1.57                               36.98   \n",
       "1954-12-31              -1.60                               37.57   \n",
       "\n",
       "            Annual % change_y  Rural population  % of total_x  \\\n",
       "Date                                                            \n",
       "1950-12-31                NaN               NaN           NaN   \n",
       "1951-12-31               1.68               NaN           NaN   \n",
       "1952-12-31               1.65               NaN           NaN   \n",
       "1953-12-31               1.62               NaN           NaN   \n",
       "1954-12-31               1.60               NaN           NaN   \n",
       "\n",
       "            Annual % change_x  Urban population  % of total_y  \\\n",
       "Date                                                            \n",
       "1950-12-31                NaN               NaN           NaN   \n",
       "1951-12-31                NaN               NaN           NaN   \n",
       "1952-12-31                NaN               NaN           NaN   \n",
       "1953-12-31                NaN               NaN           NaN   \n",
       "1954-12-31                NaN               NaN           NaN   \n",
       "\n",
       "            Annual % change_y  Total  Male  Female  \n",
       "Date                                                \n",
       "1950-12-31                NaN    NaN   NaN     NaN  \n",
       "1951-12-31                NaN    NaN   NaN     NaN  \n",
       "1952-12-31                NaN    NaN   NaN     NaN  \n",
       "1953-12-31                NaN    NaN   NaN     NaN  \n",
       "1954-12-31                NaN    NaN   NaN     NaN  "
      ]
     },
     "execution_count": 28,
     "metadata": {},
     "output_type": "execute_result"
    }
   ],
   "source": [
    "ind_pop_df.head()"
   ]
  },
  {
   "cell_type": "code",
   "execution_count": 29,
   "metadata": {},
   "outputs": [],
   "source": [
    "ind_pop_df['Population'] = ind_pop_df['Population'].apply(lambda val: np.divide(val,10000000,dtype=np.float))"
   ]
  },
  {
   "cell_type": "code",
   "execution_count": 30,
   "metadata": {},
   "outputs": [],
   "source": [
    "ind_pop_df.columns = ['Population','Pop_annual_change','Birth_Rate','BR_annual_change','Death_Rate','DR_annual_change','Fert_Rate','FR_annual_change',\n",
    "                     'Inf_Mort_Rate','Inf_Mort_annual_change','Life_Exp_Rate','Life_Exp_annual_change',\n",
    "                      'Rural_Pop','Rural_Percent_of_Total_Pop','Rural_Pop_change','Urban_Pop','Urban_Percent_of_Total_Pop','Urban_Pop_change',\n",
    "                      'SR_Total','SR_Male','SR_Female']\n",
    "\n",
    "ind_pop_df.reset_index(inplace=True)\n",
    "ind_pop_df['Year'] = ind_pop_df['Date'].dt.year"
   ]
  },
  {
   "cell_type": "code",
   "execution_count": 31,
   "metadata": {},
   "outputs": [
    {
     "data": {
      "text/html": [
       "<div>\n",
       "<style scoped>\n",
       "    .dataframe tbody tr th:only-of-type {\n",
       "        vertical-align: middle;\n",
       "    }\n",
       "\n",
       "    .dataframe tbody tr th {\n",
       "        vertical-align: top;\n",
       "    }\n",
       "\n",
       "    .dataframe thead th {\n",
       "        text-align: right;\n",
       "    }\n",
       "</style>\n",
       "<table border=\"1\" class=\"dataframe\">\n",
       "  <thead>\n",
       "    <tr style=\"text-align: right;\">\n",
       "      <th></th>\n",
       "      <th>Date</th>\n",
       "      <th>Population</th>\n",
       "      <th>Pop_annual_change</th>\n",
       "      <th>Birth_Rate</th>\n",
       "      <th>BR_annual_change</th>\n",
       "      <th>Death_Rate</th>\n",
       "      <th>DR_annual_change</th>\n",
       "      <th>Fert_Rate</th>\n",
       "      <th>FR_annual_change</th>\n",
       "      <th>Inf_Mort_Rate</th>\n",
       "      <th>Inf_Mort_annual_change</th>\n",
       "      <th>Life_Exp_Rate</th>\n",
       "      <th>Life_Exp_annual_change</th>\n",
       "      <th>Rural_Pop</th>\n",
       "      <th>Rural_Percent_of_Total_Pop</th>\n",
       "      <th>Rural_Pop_change</th>\n",
       "      <th>Urban_Pop</th>\n",
       "      <th>Urban_Percent_of_Total_Pop</th>\n",
       "      <th>Urban_Pop_change</th>\n",
       "      <th>SR_Total</th>\n",
       "      <th>SR_Male</th>\n",
       "      <th>SR_Female</th>\n",
       "      <th>Year</th>\n",
       "    </tr>\n",
       "  </thead>\n",
       "  <tbody>\n",
       "    <tr>\n",
       "      <th>0</th>\n",
       "      <td>1950-12-31</td>\n",
       "      <td>37.632520</td>\n",
       "      <td>NaN</td>\n",
       "      <td>44.175</td>\n",
       "      <td>NaN</td>\n",
       "      <td>28.161</td>\n",
       "      <td>NaN</td>\n",
       "      <td>5.907</td>\n",
       "      <td>NaN</td>\n",
       "      <td>189.629</td>\n",
       "      <td>NaN</td>\n",
       "      <td>35.210</td>\n",
       "      <td>NaN</td>\n",
       "      <td>NaN</td>\n",
       "      <td>NaN</td>\n",
       "      <td>NaN</td>\n",
       "      <td>NaN</td>\n",
       "      <td>NaN</td>\n",
       "      <td>NaN</td>\n",
       "      <td>NaN</td>\n",
       "      <td>NaN</td>\n",
       "      <td>NaN</td>\n",
       "      <td>1950</td>\n",
       "    </tr>\n",
       "    <tr>\n",
       "      <th>1</th>\n",
       "      <td>1951-12-31</td>\n",
       "      <td>38.237695</td>\n",
       "      <td>1.61</td>\n",
       "      <td>43.970</td>\n",
       "      <td>-0.46</td>\n",
       "      <td>27.584</td>\n",
       "      <td>-2.05</td>\n",
       "      <td>5.906</td>\n",
       "      <td>-0.02</td>\n",
       "      <td>186.737</td>\n",
       "      <td>-1.53</td>\n",
       "      <td>35.800</td>\n",
       "      <td>1.68</td>\n",
       "      <td>NaN</td>\n",
       "      <td>NaN</td>\n",
       "      <td>NaN</td>\n",
       "      <td>NaN</td>\n",
       "      <td>NaN</td>\n",
       "      <td>NaN</td>\n",
       "      <td>NaN</td>\n",
       "      <td>NaN</td>\n",
       "      <td>NaN</td>\n",
       "      <td>1951</td>\n",
       "    </tr>\n",
       "    <tr>\n",
       "      <th>2</th>\n",
       "      <td>1952-12-31</td>\n",
       "      <td>38.879907</td>\n",
       "      <td>1.68</td>\n",
       "      <td>43.764</td>\n",
       "      <td>-0.47</td>\n",
       "      <td>27.008</td>\n",
       "      <td>-2.09</td>\n",
       "      <td>5.904</td>\n",
       "      <td>-0.03</td>\n",
       "      <td>183.846</td>\n",
       "      <td>-1.55</td>\n",
       "      <td>36.390</td>\n",
       "      <td>1.65</td>\n",
       "      <td>NaN</td>\n",
       "      <td>NaN</td>\n",
       "      <td>NaN</td>\n",
       "      <td>NaN</td>\n",
       "      <td>NaN</td>\n",
       "      <td>NaN</td>\n",
       "      <td>NaN</td>\n",
       "      <td>NaN</td>\n",
       "      <td>NaN</td>\n",
       "      <td>1952</td>\n",
       "    </tr>\n",
       "    <tr>\n",
       "      <th>3</th>\n",
       "      <td>1953-12-31</td>\n",
       "      <td>39.554437</td>\n",
       "      <td>1.73</td>\n",
       "      <td>43.558</td>\n",
       "      <td>-0.47</td>\n",
       "      <td>26.432</td>\n",
       "      <td>-2.13</td>\n",
       "      <td>5.903</td>\n",
       "      <td>-0.02</td>\n",
       "      <td>180.954</td>\n",
       "      <td>-1.57</td>\n",
       "      <td>36.980</td>\n",
       "      <td>1.62</td>\n",
       "      <td>NaN</td>\n",
       "      <td>NaN</td>\n",
       "      <td>NaN</td>\n",
       "      <td>NaN</td>\n",
       "      <td>NaN</td>\n",
       "      <td>NaN</td>\n",
       "      <td>NaN</td>\n",
       "      <td>NaN</td>\n",
       "      <td>NaN</td>\n",
       "      <td>1953</td>\n",
       "    </tr>\n",
       "    <tr>\n",
       "      <th>4</th>\n",
       "      <td>1954-12-31</td>\n",
       "      <td>40.257860</td>\n",
       "      <td>1.78</td>\n",
       "      <td>43.352</td>\n",
       "      <td>-0.47</td>\n",
       "      <td>25.856</td>\n",
       "      <td>-2.18</td>\n",
       "      <td>5.902</td>\n",
       "      <td>-0.02</td>\n",
       "      <td>178.062</td>\n",
       "      <td>-1.60</td>\n",
       "      <td>37.570</td>\n",
       "      <td>1.60</td>\n",
       "      <td>NaN</td>\n",
       "      <td>NaN</td>\n",
       "      <td>NaN</td>\n",
       "      <td>NaN</td>\n",
       "      <td>NaN</td>\n",
       "      <td>NaN</td>\n",
       "      <td>NaN</td>\n",
       "      <td>NaN</td>\n",
       "      <td>NaN</td>\n",
       "      <td>1954</td>\n",
       "    </tr>\n",
       "    <tr>\n",
       "      <th>5</th>\n",
       "      <td>1955-12-31</td>\n",
       "      <td>40.988059</td>\n",
       "      <td>1.81</td>\n",
       "      <td>43.146</td>\n",
       "      <td>-0.48</td>\n",
       "      <td>25.280</td>\n",
       "      <td>-2.23</td>\n",
       "      <td>5.900</td>\n",
       "      <td>-0.03</td>\n",
       "      <td>175.171</td>\n",
       "      <td>-1.62</td>\n",
       "      <td>38.160</td>\n",
       "      <td>1.57</td>\n",
       "      <td>NaN</td>\n",
       "      <td>NaN</td>\n",
       "      <td>NaN</td>\n",
       "      <td>NaN</td>\n",
       "      <td>NaN</td>\n",
       "      <td>NaN</td>\n",
       "      <td>NaN</td>\n",
       "      <td>NaN</td>\n",
       "      <td>NaN</td>\n",
       "      <td>1955</td>\n",
       "    </tr>\n",
       "    <tr>\n",
       "      <th>6</th>\n",
       "      <td>1956-12-31</td>\n",
       "      <td>41.744281</td>\n",
       "      <td>1.84</td>\n",
       "      <td>42.941</td>\n",
       "      <td>-0.48</td>\n",
       "      <td>24.703</td>\n",
       "      <td>-2.28</td>\n",
       "      <td>5.899</td>\n",
       "      <td>-0.02</td>\n",
       "      <td>172.279</td>\n",
       "      <td>-1.65</td>\n",
       "      <td>38.750</td>\n",
       "      <td>1.55</td>\n",
       "      <td>NaN</td>\n",
       "      <td>NaN</td>\n",
       "      <td>NaN</td>\n",
       "      <td>NaN</td>\n",
       "      <td>NaN</td>\n",
       "      <td>NaN</td>\n",
       "      <td>NaN</td>\n",
       "      <td>NaN</td>\n",
       "      <td>NaN</td>\n",
       "      <td>1956</td>\n",
       "    </tr>\n",
       "    <tr>\n",
       "      <th>7</th>\n",
       "      <td>1957-12-31</td>\n",
       "      <td>42.527070</td>\n",
       "      <td>1.88</td>\n",
       "      <td>42.735</td>\n",
       "      <td>-0.48</td>\n",
       "      <td>24.127</td>\n",
       "      <td>-2.33</td>\n",
       "      <td>5.897</td>\n",
       "      <td>-0.03</td>\n",
       "      <td>169.388</td>\n",
       "      <td>-1.68</td>\n",
       "      <td>39.340</td>\n",
       "      <td>1.52</td>\n",
       "      <td>NaN</td>\n",
       "      <td>NaN</td>\n",
       "      <td>NaN</td>\n",
       "      <td>NaN</td>\n",
       "      <td>NaN</td>\n",
       "      <td>NaN</td>\n",
       "      <td>NaN</td>\n",
       "      <td>NaN</td>\n",
       "      <td>NaN</td>\n",
       "      <td>1957</td>\n",
       "    </tr>\n",
       "    <tr>\n",
       "      <th>8</th>\n",
       "      <td>1958-12-31</td>\n",
       "      <td>43.338098</td>\n",
       "      <td>1.91</td>\n",
       "      <td>42.529</td>\n",
       "      <td>-0.48</td>\n",
       "      <td>23.551</td>\n",
       "      <td>-2.39</td>\n",
       "      <td>5.896</td>\n",
       "      <td>-0.02</td>\n",
       "      <td>166.496</td>\n",
       "      <td>-1.71</td>\n",
       "      <td>39.930</td>\n",
       "      <td>1.50</td>\n",
       "      <td>NaN</td>\n",
       "      <td>NaN</td>\n",
       "      <td>NaN</td>\n",
       "      <td>NaN</td>\n",
       "      <td>NaN</td>\n",
       "      <td>NaN</td>\n",
       "      <td>NaN</td>\n",
       "      <td>NaN</td>\n",
       "      <td>NaN</td>\n",
       "      <td>1958</td>\n",
       "    </tr>\n",
       "    <tr>\n",
       "      <th>9</th>\n",
       "      <td>1959-12-31</td>\n",
       "      <td>44.179858</td>\n",
       "      <td>1.94</td>\n",
       "      <td>42.298</td>\n",
       "      <td>-0.54</td>\n",
       "      <td>23.016</td>\n",
       "      <td>-2.27</td>\n",
       "      <td>5.895</td>\n",
       "      <td>-0.02</td>\n",
       "      <td>164.119</td>\n",
       "      <td>-1.43</td>\n",
       "      <td>40.532</td>\n",
       "      <td>1.51</td>\n",
       "      <td>NaN</td>\n",
       "      <td>NaN</td>\n",
       "      <td>NaN</td>\n",
       "      <td>NaN</td>\n",
       "      <td>NaN</td>\n",
       "      <td>NaN</td>\n",
       "      <td>NaN</td>\n",
       "      <td>NaN</td>\n",
       "      <td>NaN</td>\n",
       "      <td>1959</td>\n",
       "    </tr>\n",
       "  </tbody>\n",
       "</table>\n",
       "</div>"
      ],
      "text/plain": [
       "        Date  Population  Pop_annual_change  Birth_Rate  BR_annual_change  \\\n",
       "0 1950-12-31   37.632520                NaN      44.175               NaN   \n",
       "1 1951-12-31   38.237695               1.61      43.970             -0.46   \n",
       "2 1952-12-31   38.879907               1.68      43.764             -0.47   \n",
       "3 1953-12-31   39.554437               1.73      43.558             -0.47   \n",
       "4 1954-12-31   40.257860               1.78      43.352             -0.47   \n",
       "5 1955-12-31   40.988059               1.81      43.146             -0.48   \n",
       "6 1956-12-31   41.744281               1.84      42.941             -0.48   \n",
       "7 1957-12-31   42.527070               1.88      42.735             -0.48   \n",
       "8 1958-12-31   43.338098               1.91      42.529             -0.48   \n",
       "9 1959-12-31   44.179858               1.94      42.298             -0.54   \n",
       "\n",
       "   Death_Rate  DR_annual_change  Fert_Rate  FR_annual_change  Inf_Mort_Rate  \\\n",
       "0      28.161               NaN      5.907               NaN        189.629   \n",
       "1      27.584             -2.05      5.906             -0.02        186.737   \n",
       "2      27.008             -2.09      5.904             -0.03        183.846   \n",
       "3      26.432             -2.13      5.903             -0.02        180.954   \n",
       "4      25.856             -2.18      5.902             -0.02        178.062   \n",
       "5      25.280             -2.23      5.900             -0.03        175.171   \n",
       "6      24.703             -2.28      5.899             -0.02        172.279   \n",
       "7      24.127             -2.33      5.897             -0.03        169.388   \n",
       "8      23.551             -2.39      5.896             -0.02        166.496   \n",
       "9      23.016             -2.27      5.895             -0.02        164.119   \n",
       "\n",
       "   Inf_Mort_annual_change  Life_Exp_Rate  Life_Exp_annual_change  Rural_Pop  \\\n",
       "0                     NaN         35.210                     NaN        NaN   \n",
       "1                   -1.53         35.800                    1.68        NaN   \n",
       "2                   -1.55         36.390                    1.65        NaN   \n",
       "3                   -1.57         36.980                    1.62        NaN   \n",
       "4                   -1.60         37.570                    1.60        NaN   \n",
       "5                   -1.62         38.160                    1.57        NaN   \n",
       "6                   -1.65         38.750                    1.55        NaN   \n",
       "7                   -1.68         39.340                    1.52        NaN   \n",
       "8                   -1.71         39.930                    1.50        NaN   \n",
       "9                   -1.43         40.532                    1.51        NaN   \n",
       "\n",
       "   Rural_Percent_of_Total_Pop  Rural_Pop_change  Urban_Pop  \\\n",
       "0                         NaN               NaN        NaN   \n",
       "1                         NaN               NaN        NaN   \n",
       "2                         NaN               NaN        NaN   \n",
       "3                         NaN               NaN        NaN   \n",
       "4                         NaN               NaN        NaN   \n",
       "5                         NaN               NaN        NaN   \n",
       "6                         NaN               NaN        NaN   \n",
       "7                         NaN               NaN        NaN   \n",
       "8                         NaN               NaN        NaN   \n",
       "9                         NaN               NaN        NaN   \n",
       "\n",
       "   Urban_Percent_of_Total_Pop  Urban_Pop_change  SR_Total  SR_Male  SR_Female  \\\n",
       "0                         NaN               NaN       NaN      NaN        NaN   \n",
       "1                         NaN               NaN       NaN      NaN        NaN   \n",
       "2                         NaN               NaN       NaN      NaN        NaN   \n",
       "3                         NaN               NaN       NaN      NaN        NaN   \n",
       "4                         NaN               NaN       NaN      NaN        NaN   \n",
       "5                         NaN               NaN       NaN      NaN        NaN   \n",
       "6                         NaN               NaN       NaN      NaN        NaN   \n",
       "7                         NaN               NaN       NaN      NaN        NaN   \n",
       "8                         NaN               NaN       NaN      NaN        NaN   \n",
       "9                         NaN               NaN       NaN      NaN        NaN   \n",
       "\n",
       "   Year  \n",
       "0  1950  \n",
       "1  1951  \n",
       "2  1952  \n",
       "3  1953  \n",
       "4  1954  \n",
       "5  1955  \n",
       "6  1956  \n",
       "7  1957  \n",
       "8  1958  \n",
       "9  1959  "
      ]
     },
     "execution_count": 31,
     "metadata": {},
     "output_type": "execute_result"
    }
   ],
   "source": [
    "ind_pop_df.head(10)"
   ]
  },
  {
   "cell_type": "markdown",
   "metadata": {},
   "source": [
    "## ***``Exploratory Data Analysis``***"
   ]
  },
  {
   "cell_type": "code",
   "execution_count": 32,
   "metadata": {},
   "outputs": [],
   "source": [
    "def graph_customization(label_x, label_y, grph_title, x_ticks_rot=0, ticks_size=11, y_ticks_rot=10, x_ticks=False, x_ticks_labels=False, y_ticks=False, y_ticks_labels=False):\n",
    "    \"\"\"\n",
    "    Description: This function is created for customizing the labels, title and axis ticks.\n",
    "    \n",
    "    Input Parameters: It accepts below input parameters:\n",
    "            1. label_x : X-axis label\n",
    "            2. label_y : Y-axis label\n",
    "            3. grph_title : Title of the graph\n",
    "            4. x_ticks_rot : X-ticks rotation value; by default = 0 \n",
    "            5. ticks_size : X-axis and Y-axis ticks size; by default = 11 \n",
    "            6. y_ticks_rot : Y-axis ticks rotation; by default = 10 \n",
    "            7. x_ticks : Locations of X-axis ticks; by default = False\n",
    "            8. x_ticks_labels : Labels of the X-axis ticks; by default = False\n",
    "            9. y_ticks : Locations of Y-axis ticks; by default = False\n",
    "            10. y_ticks_labels : Labels of the Y-axis ticks; by default = False\n",
    "    \n",
    "    Returns : None\n",
    "    \"\"\"\n",
    "    label_font_style = {'size':18,'family':'calibri','color':'coral','style':'italic'}\n",
    "    title_font_style = {'size':20,'family':'calibri','color':'blue','style':'italic'}\n",
    "    \n",
    "    plt.xlabel(label_x,fontdict=label_font_style)\n",
    "    plt.ylabel(label_y,fontdict=label_font_style)\n",
    "    plt.title(grph_title,fontdict=title_font_style)\n",
    "    \n",
    "    if x_ticks != False:\n",
    "        plt.xticks(ticks=x_ticks, labels= x_tick_labels, rotation=x_ticks_rot, size=ticks_size, style='oblique')\n",
    "    else:\n",
    "        plt.xticks(rotation=x_ticks_rot,size=ticks_size,style='oblique')\n",
    "    \n",
    "    if y_ticks != False:\n",
    "        plt.yticks(ticks=y_ticks, labels= y_tick_labels, rotation=y_ticks_rot, size=ticks_size, style='oblique')\n",
    "    else:\n",
    "        plt.yticks(rotation=y_ticks_rot,size=ticks_size,style='oblique')"
   ]
  },
  {
   "cell_type": "markdown",
   "metadata": {},
   "source": [
    "### **``Plot-1``**\n",
    "#### **``Let's try to visualize the trend in population growth. Is it very steap in any decade between 1950 to 2019?``**"
   ]
  },
  {
   "cell_type": "code",
   "execution_count": 55,
   "metadata": {},
   "outputs": [
    {
     "data": {
      "image/png": "[encoded data removed]",
      "text/plain": [
       "<Figure size 1440x576 with 1 Axes>"
      ]
     },
     "metadata": {},
     "output_type": "display_data"
    }
   ],
   "source": [
    "sns.set_context('poster')\n",
    "plt.figure(figsize=(20,8))\n",
    "sns.pointplot(x='Year',y='Population',data=ind_pop_df,palette=sns.color_palette('gist_rainbow',2),scale=0.65,markers='*')\n",
    "graph_customization('Years','Population in Crores','Growth in population from year 1950 to 2019',x_ticks_rot=75)\n",
    "plt.show()"
   ]
  },
  {
   "cell_type": "markdown",
   "metadata": {},
   "source": [
    "##### **So, it is quite evident that India's population has followed the gradual increase trend from 1950 to 2019.**"
   ]
  },
  {
   "cell_type": "markdown",
   "metadata": {},
   "source": [
    "### **``Plot-2``**\n",
    "#### **``Let's see whether Annual Population Change(%) will show us any different trend in population growth.``**"
   ]
  },
  {
   "cell_type": "code",
   "execution_count": 34,
   "metadata": {},
   "outputs": [
    {
     "data": {
      "image/png": "[encoded data removed]",
      "text/plain": [
       "<Figure size 1296x720 with 1 Axes>"
      ]
     },
     "metadata": {},
     "output_type": "display_data"
    }
   ],
   "source": [
    "with plt.style.context('seaborn'):\n",
    "    plt.figure(figsize=(18,10))\n",
    "    sns.barplot(x='Year',y='Pop_annual_change',data=ind_pop_df,palette=sns.color_palette('magma'))\n",
    "    graph_customization('Years','Population change (%)','Percentage change in population from year 1950 to 2019',ticks_size=10,x_ticks_rot=60)\n",
    "    plt.ylim(bottom=0, top=2.5)\n",
    "plt.show()"
   ]
  },
  {
   "cell_type": "markdown",
   "metadata": {},
   "source": [
    "##### **So, here things are not very straight forward till year 1967 the increase was gradual, however, between 1968 to 1985 there are few ups & down. And, the annual pop change reached its highest value twice.**"
   ]
  },
  {
   "cell_type": "markdown",
   "metadata": {},
   "source": [
    "### **``Plot-3``**\n",
    "#### **``Let's see the trend of Birth Rate b/w 1950 & 2019.``**"
   ]
  },
  {
   "cell_type": "code",
   "execution_count": 45,
   "metadata": {},
   "outputs": [
    {
     "data": {
      "image/png": "[encoded data removed]",
      "text/plain": [
       "<Figure size 1440x576 with 1 Axes>"
      ]
     },
     "metadata": {},
     "output_type": "display_data"
    }
   ],
   "source": [
    "sns.set_context('poster')\n",
    "plt.figure(figsize=(20,8))\n",
    "sns.barplot(x='Year',y='Birth_Rate',data=ind_pop_df,palette=sns.color_palette('PuBu'))\n",
    "graph_customization('Years','Birth Rate','Trend of Birth Rate from 1950 to 2019',ticks_size=11,x_ticks_rot=75)\n",
    "plt.show()"
   ]
  },
  {
   "cell_type": "markdown",
   "metadata": {},
   "source": [
    "##### **So, it is quite evident that number of births per thousand people have been decreased significantly in the 70 years span.**"
   ]
  },
  {
   "cell_type": "markdown",
   "metadata": {},
   "source": [
    "### **``Plot-4``**\n",
    "#### **``Let's see the trend of Annual percentage change in Birth Rate b/w 1950 & 2019.``**"
   ]
  },
  {
   "cell_type": "code",
   "execution_count": 36,
   "metadata": {},
   "outputs": [
    {
     "data": {
      "image/png": "[encoded data removed]",
      "text/plain": [
       "<Figure size 720x576 with 1 Axes>"
      ]
     },
     "metadata": {
      "needs_background": "light"
     },
     "output_type": "display_data"
    }
   ],
   "source": [
    "sns.set_context('poster')\n",
    "plt.figure(figsize=(10,8))\n",
    "sns.lineplot(x='Year',y='BR_annual_change',data=ind_pop_df,palette=sns.color_palette('twilight'))\n",
    "graph_customization('Years','Birth Rate Annual change (%)','Birth Rate (%) change b/w 1950 & 2019',x_ticks_rot=40,ticks_size=11)\n",
    "plt.ylim(bottom=-4,top=2)\n",
    "plt.show()"
   ]
  },
  {
   "cell_type": "markdown",
   "metadata": {},
   "source": [
    "##### **Here, it is clear that Birth Rate Annual Change has fluctuate significantly from 1950 to 2019.**"
   ]
  },
  {
   "cell_type": "markdown",
   "metadata": {},
   "source": [
    "### **``Plot-5``**\n",
    "#### **``Let's try to see the Annual Pop Change and Birth Rate Annual Change relationship b/w 1950 & 2019.``**"
   ]
  },
  {
   "cell_type": "code",
   "execution_count": 37,
   "metadata": {},
   "outputs": [
    {
     "data": {
      "image/png": "[encoded data removed]",
      "text/plain": [
       "<Figure size 612x612 with 3 Axes>"
      ]
     },
     "metadata": {},
     "output_type": "display_data"
    }
   ],
   "source": [
    "with plt.style.context('seaborn'):\n",
    "    g = sns.jointplot(x='Pop_annual_change',y='BR_annual_change',data=ind_pop_df,kind='kde',color='k',height=8.5)\n",
    "    g.plot_joint(plt.scatter, c=\"r\", s=20, linewidth=1, marker=\"^\")\n",
    "    g.set_axis_labels('Population Annual (%) change','Birth Rate Annual (%) change',style='oblique',size=15,color='coral')"
   ]
  },
  {
   "cell_type": "markdown",
   "metadata": {},
   "source": [
    "##### **So, here we found out that majority of the data points for annual (%) change. By seeing the data points in triangular shape its pretty hard to find the linear relationship b/w the variables.** "
   ]
  },
  {
   "cell_type": "code",
   "execution_count": 100,
   "metadata": {},
   "outputs": [
    {
     "data": {
      "text/html": [
       "<div>\n",
       "<style scoped>\n",
       "    .dataframe tbody tr th:only-of-type {\n",
       "        vertical-align: middle;\n",
       "    }\n",
       "\n",
       "    .dataframe tbody tr th {\n",
       "        vertical-align: top;\n",
       "    }\n",
       "\n",
       "    .dataframe thead th {\n",
       "        text-align: right;\n",
       "    }\n",
       "</style>\n",
       "<table border=\"1\" class=\"dataframe\">\n",
       "  <thead>\n",
       "    <tr style=\"text-align: right;\">\n",
       "      <th></th>\n",
       "      <th>Pop_annual_change</th>\n",
       "      <th>BR_annual_change</th>\n",
       "    </tr>\n",
       "  </thead>\n",
       "  <tbody>\n",
       "    <tr>\n",
       "      <th>Pop_annual_change</th>\n",
       "      <td>1.000000</td>\n",
       "      <td>0.313096</td>\n",
       "    </tr>\n",
       "    <tr>\n",
       "      <th>BR_annual_change</th>\n",
       "      <td>0.313096</td>\n",
       "      <td>1.000000</td>\n",
       "    </tr>\n",
       "  </tbody>\n",
       "</table>\n",
       "</div>"
      ],
      "text/plain": [
       "                   Pop_annual_change  BR_annual_change\n",
       "Pop_annual_change           1.000000          0.313096\n",
       "BR_annual_change            0.313096          1.000000"
      ]
     },
     "execution_count": 100,
     "metadata": {},
     "output_type": "execute_result"
    }
   ],
   "source": [
    "ind_pop_df[['Pop_annual_change','BR_annual_change']].corr().applymap(lambda val : np.square(val))"
   ]
  },
  {
   "cell_type": "markdown",
   "metadata": {},
   "source": [
    "##### **As suggested by the plot only 31% of the variations in these variables are explainable among them.**"
   ]
  },
  {
   "cell_type": "markdown",
   "metadata": {},
   "source": [
    "### **``Plot-6``**\n",
    "#### **``Let's see the trend of Death Rate b/w 1950 & 2019.``**"
   ]
  },
  {
   "cell_type": "code",
   "execution_count": 38,
   "metadata": {},
   "outputs": [
    {
     "data": {
      "image/png": "[encoded data removed]",
      "text/plain": [
       "<Figure size 1296x576 with 1 Axes>"
      ]
     },
     "metadata": {
      "needs_background": "light"
     },
     "output_type": "display_data"
    }
   ],
   "source": [
    "sns.set_context('poster')\n",
    "plt.figure(figsize=(18,8))\n",
    "sns.barplot(x='Year',y='Death_Rate',data=ind_pop_df,palette=sns.color_palette('viridis'))\n",
    "sns.set(rc={\"xtick.bottom\" : True, \"ytick.left\" : True})\n",
    "graph_customization(label_x='Years',label_y='Death Rate',grph_title='Trend of Death Rate from 1950 to 2019',x_ticks_rot=75)\n",
    "plt.show()"
   ]
  },
  {
   "cell_type": "markdown",
   "metadata": {},
   "source": [
    "##### **There is a definite a dip in the death rate till year 2011, post that it appears to be flatten out.**"
   ]
  },
  {
   "cell_type": "markdown",
   "metadata": {},
   "source": [
    "### **``Plot-7``**\n",
    "#### **``Let's see the trend of Annual percentage change in Death Rate b/w 1950 & 2019.``**"
   ]
  },
  {
   "cell_type": "code",
   "execution_count": 58,
   "metadata": {},
   "outputs": [
    {
     "data": {
      "image/png": "[encoded data removed]",
      "text/plain": [
       "<Figure size 720x576 with 1 Axes>"
      ]
     },
     "metadata": {},
     "output_type": "display_data"
    }
   ],
   "source": [
    "sns.set_context('poster')\n",
    "plt.figure(figsize=(10,8))\n",
    "sns.lineplot(x='Year',y='DR_annual_change',data=ind_pop_df,palette=sns.color_palette('twilight'))\n",
    "graph_customization('Years','Death Rate Annual change (%)','Death Rate (%) change b/w 1950 & 2019',x_ticks_rot=40,ticks_size=11)\n",
    "plt.ylim(bottom=-4,top=2)\n",
    "plt.show()"
   ]
  },
  {
   "cell_type": "markdown",
   "metadata": {},
   "source": [
    "##### **Annual (%) change in Death rate has fluctuated throughout the time period. And, we can say that post 2010 we have witnessed the continuous progression.**"
   ]
  },
  {
   "cell_type": "markdown",
   "metadata": {},
   "source": [
    "### **``Plot-8``**\n",
    "#### **``Let's try to visualize the relationship b/w Birth Rate and Death Rate b/w 1950 & 2019.``**"
   ]
  },
  {
   "cell_type": "code",
   "execution_count": 95,
   "metadata": {},
   "outputs": [
    {
     "data": {
      "image/png": "[encoded data removed]",
      "text/plain": [
       "<Figure size 576x396 with 1 Axes>"
      ]
     },
     "metadata": {},
     "output_type": "display_data"
    },
    {
     "data": {
      "image/png": "[encoded data removed]",
      "text/plain": [
       "<Figure size 576x396 with 1 Axes>"
      ]
     },
     "metadata": {},
     "output_type": "display_data"
    }
   ],
   "source": [
    "with plt.style.context('seaborn'):\n",
    "    sns.violinplot(x='Birth_Rate',data=ind_pop_df,palette=sns.color_palette('plasma'))\n",
    "    graph_customization(label_x='Birth Rate',label_y=None, grph_title='Distribution of Birth Rate')\n",
    "plt.show()\n",
    "\n",
    "with plt.style.context('seaborn'):\n",
    "    sns.violinplot(x='Death_Rate',data=ind_pop_df,palette=sns.color_palette('cubehelix'))\n",
    "    graph_customization(label_x='Death Rate',label_y=None, grph_title='Distribution of Death Rate')\n",
    "plt.show()"
   ]
  },
  {
   "cell_type": "code",
   "execution_count": 123,
   "metadata": {},
   "outputs": [
    {
     "data": {
      "image/png": "[encoded data removed]",
      "text/plain": [
       "<Figure size 1296x576 with 1 Axes>"
      ]
     },
     "metadata": {},
     "output_type": "display_data"
    }
   ],
   "source": [
    "with plt.style.context('seaborn'):\n",
    "    plt.figure(figsize=(18,8))\n",
    "    sns.regplot(x='Birth_Rate',y='Death_Rate',data=ind_pop_df,marker='v',color='k')\n",
    "    graph_customization(label_x='Birth Rate',label_y='Death Rate',grph_title='Relationship b/w Birth & Death Rate',ticks_size=11)\n",
    "plt.show()"
   ]
  },
  {
   "cell_type": "markdown",
   "metadata": {},
   "source": [
    "##### **By seeing the data points in triangular shape we can say that a strong linear relationship exists among Birth and Death Rates.** "
   ]
  },
  {
   "cell_type": "code",
   "execution_count": 119,
   "metadata": {},
   "outputs": [
    {
     "data": {
      "text/html": [
       "<div>\n",
       "<style scoped>\n",
       "    .dataframe tbody tr th:only-of-type {\n",
       "        vertical-align: middle;\n",
       "    }\n",
       "\n",
       "    .dataframe tbody tr th {\n",
       "        vertical-align: top;\n",
       "    }\n",
       "\n",
       "    .dataframe thead th {\n",
       "        text-align: right;\n",
       "    }\n",
       "</style>\n",
       "<table border=\"1\" class=\"dataframe\">\n",
       "  <thead>\n",
       "    <tr style=\"text-align: right;\">\n",
       "      <th></th>\n",
       "      <th>Birth_Rate</th>\n",
       "      <th>Death_Rate</th>\n",
       "    </tr>\n",
       "  </thead>\n",
       "  <tbody>\n",
       "    <tr>\n",
       "      <th>Birth_Rate</th>\n",
       "      <td>1.000000</td>\n",
       "      <td>0.838588</td>\n",
       "    </tr>\n",
       "    <tr>\n",
       "      <th>Death_Rate</th>\n",
       "      <td>0.838588</td>\n",
       "      <td>1.000000</td>\n",
       "    </tr>\n",
       "  </tbody>\n",
       "</table>\n",
       "</div>"
      ],
      "text/plain": [
       "            Birth_Rate  Death_Rate\n",
       "Birth_Rate    1.000000    0.838588\n",
       "Death_Rate    0.838588    1.000000"
      ]
     },
     "execution_count": 119,
     "metadata": {},
     "output_type": "execute_result"
    }
   ],
   "source": [
    "ind_pop_df[['Birth_Rate','Death_Rate']].corr().applymap(lambda val : np.square(val))"
   ]
  },
  {
   "cell_type": "markdown",
   "metadata": {},
   "source": [
    "##### **As suggested by the plot, 83% of the variations in these features are explainable among them.** "
   ]
  },
  {
   "cell_type": "markdown",
   "metadata": {},
   "source": [
    "### **``Plot-9``**\n",
    "#### **``Let's try to visualize the relationship b/w Birth Rate and Death Rate (Annual % change) from 1950 to 2019.``**"
   ]
  },
  {
   "cell_type": "code",
   "execution_count": 150,
   "metadata": {},
   "outputs": [
    {
     "data": {
      "image/png": "[encoded data removed]",
      "text/plain": [
       "<Figure size 576x396 with 1 Axes>"
      ]
     },
     "metadata": {},
     "output_type": "display_data"
    },
    {
     "data": {
      "image/png": "[encoded data removed]",
      "text/plain": [
       "<Figure size 576x396 with 1 Axes>"
      ]
     },
     "metadata": {},
     "output_type": "display_data"
    }
   ],
   "source": [
    "with plt.style.context('seaborn'):\n",
    "    sns.violinplot(x='BR_annual_change',data=ind_pop_df,palette=sns.color_palette('gist_rainbow'))\n",
    "    graph_customization(label_x='Birth Rate (%)',label_y=None, grph_title='Distribution of Birth Rate Annual (%) change')\n",
    "plt.show()\n",
    "\n",
    "with plt.style.context('seaborn'):\n",
    "    sns.violinplot(x='DR_annual_change',data=ind_pop_df,palette=sns.color_palette('viridis'))\n",
    "    graph_customization(label_x='Death Rate (%) ',label_y=None, grph_title='Distribution of Death Rate Annual (%) change')\n",
    "plt.show()"
   ]
  },
  {
   "cell_type": "code",
   "execution_count": 147,
   "metadata": {},
   "outputs": [
    {
     "data": {
      "image/png": "[encoded data removed]",
      "text/plain": [
       "<Figure size 648x648 with 3 Axes>"
      ]
     },
     "metadata": {},
     "output_type": "display_data"
    }
   ],
   "source": [
    "with plt.style.context('seaborn'):\n",
    "    img_c2 = sns.jointplot(x='BR_annual_change',y='DR_annual_change',data=ind_pop_df,kind='kde',height=9)\n",
    "    img_c2.plot_joint(plt.scatter, c=\"r\", s=25, linewidth=1.5, marker=\"*\")\n",
    "    img_c2.set_axis_labels('Birth Rate Annual (%) change','Death Rate Annual (%) change',color='coral',size=16,style='oblique')"
   ]
  },
  {
   "cell_type": "markdown",
   "metadata": {},
   "source": [
    "##### **By seeing the data points in highlighted(star) shape, it feels difficult to find the linear relationship exists among Birth and Death Rates Annual (%) change.** "
   ]
  },
  {
   "cell_type": "code",
   "execution_count": 149,
   "metadata": {},
   "outputs": [
    {
     "data": {
      "text/html": [
       "<div>\n",
       "<style scoped>\n",
       "    .dataframe tbody tr th:only-of-type {\n",
       "        vertical-align: middle;\n",
       "    }\n",
       "\n",
       "    .dataframe tbody tr th {\n",
       "        vertical-align: top;\n",
       "    }\n",
       "\n",
       "    .dataframe thead th {\n",
       "        text-align: right;\n",
       "    }\n",
       "</style>\n",
       "<table border=\"1\" class=\"dataframe\">\n",
       "  <thead>\n",
       "    <tr style=\"text-align: right;\">\n",
       "      <th></th>\n",
       "      <th>BR_annual_change</th>\n",
       "      <th>DR_annual_change</th>\n",
       "    </tr>\n",
       "  </thead>\n",
       "  <tbody>\n",
       "    <tr>\n",
       "      <th>BR_annual_change</th>\n",
       "      <td>1.000000</td>\n",
       "      <td>0.193854</td>\n",
       "    </tr>\n",
       "    <tr>\n",
       "      <th>DR_annual_change</th>\n",
       "      <td>0.193854</td>\n",
       "      <td>1.000000</td>\n",
       "    </tr>\n",
       "  </tbody>\n",
       "</table>\n",
       "</div>"
      ],
      "text/plain": [
       "                  BR_annual_change  DR_annual_change\n",
       "BR_annual_change          1.000000          0.193854\n",
       "DR_annual_change          0.193854          1.000000"
      ]
     },
     "execution_count": 149,
     "metadata": {},
     "output_type": "execute_result"
    }
   ],
   "source": [
    "ind_pop_df[['BR_annual_change','DR_annual_change']].corr().applymap(lambda val : np.square(val))"
   ]
  },
  {
   "cell_type": "markdown",
   "metadata": {},
   "source": [
    "##### **As suggested by the plot, only 19% of the variations in these features are explainable among them.** "
   ]
  },
  {
   "cell_type": "code",
   "execution_count": 39,
   "metadata": {},
   "outputs": [
    {
     "data": {
      "text/html": [
       "<div>\n",
       "<style scoped>\n",
       "    .dataframe tbody tr th:only-of-type {\n",
       "        vertical-align: middle;\n",
       "    }\n",
       "\n",
       "    .dataframe tbody tr th {\n",
       "        vertical-align: top;\n",
       "    }\n",
       "\n",
       "    .dataframe thead th {\n",
       "        text-align: right;\n",
       "    }\n",
       "</style>\n",
       "<table border=\"1\" class=\"dataframe\">\n",
       "  <thead>\n",
       "    <tr style=\"text-align: right;\">\n",
       "      <th></th>\n",
       "      <th>Date</th>\n",
       "      <th>Population</th>\n",
       "      <th>Pop_annual_change</th>\n",
       "      <th>Birth_Rate</th>\n",
       "      <th>BR_annual_change</th>\n",
       "      <th>Death_Rate</th>\n",
       "      <th>DR_annual_change</th>\n",
       "      <th>Fert_Rate</th>\n",
       "      <th>FR_annual_change</th>\n",
       "      <th>Inf_Mort_Rate</th>\n",
       "      <th>Inf_Mort_annual_change</th>\n",
       "      <th>Life_Exp_Rate</th>\n",
       "      <th>Life_Exp_annual_change</th>\n",
       "      <th>Rural_Pop</th>\n",
       "      <th>Rural_Percent_of_Total_Pop</th>\n",
       "      <th>Rural_Pop_change</th>\n",
       "      <th>Urban_Pop</th>\n",
       "      <th>Urban_Percent_of_Total_Pop</th>\n",
       "      <th>Urban_Pop_change</th>\n",
       "      <th>SR_Total</th>\n",
       "      <th>SR_Male</th>\n",
       "      <th>SR_Female</th>\n",
       "      <th>Year</th>\n",
       "    </tr>\n",
       "  </thead>\n",
       "  <tbody>\n",
       "    <tr>\n",
       "      <th>0</th>\n",
       "      <td>1950-12-31</td>\n",
       "      <td>37.632520</td>\n",
       "      <td>NaN</td>\n",
       "      <td>44.175</td>\n",
       "      <td>NaN</td>\n",
       "      <td>28.161</td>\n",
       "      <td>NaN</td>\n",
       "      <td>5.907</td>\n",
       "      <td>NaN</td>\n",
       "      <td>189.629</td>\n",
       "      <td>NaN</td>\n",
       "      <td>35.21</td>\n",
       "      <td>NaN</td>\n",
       "      <td>NaN</td>\n",
       "      <td>NaN</td>\n",
       "      <td>NaN</td>\n",
       "      <td>NaN</td>\n",
       "      <td>NaN</td>\n",
       "      <td>NaN</td>\n",
       "      <td>NaN</td>\n",
       "      <td>NaN</td>\n",
       "      <td>NaN</td>\n",
       "      <td>1950</td>\n",
       "    </tr>\n",
       "    <tr>\n",
       "      <th>1</th>\n",
       "      <td>1951-12-31</td>\n",
       "      <td>38.237695</td>\n",
       "      <td>1.61</td>\n",
       "      <td>43.970</td>\n",
       "      <td>-0.46</td>\n",
       "      <td>27.584</td>\n",
       "      <td>-2.05</td>\n",
       "      <td>5.906</td>\n",
       "      <td>-0.02</td>\n",
       "      <td>186.737</td>\n",
       "      <td>-1.53</td>\n",
       "      <td>35.80</td>\n",
       "      <td>1.68</td>\n",
       "      <td>NaN</td>\n",
       "      <td>NaN</td>\n",
       "      <td>NaN</td>\n",
       "      <td>NaN</td>\n",
       "      <td>NaN</td>\n",
       "      <td>NaN</td>\n",
       "      <td>NaN</td>\n",
       "      <td>NaN</td>\n",
       "      <td>NaN</td>\n",
       "      <td>1951</td>\n",
       "    </tr>\n",
       "    <tr>\n",
       "      <th>2</th>\n",
       "      <td>1952-12-31</td>\n",
       "      <td>38.879907</td>\n",
       "      <td>1.68</td>\n",
       "      <td>43.764</td>\n",
       "      <td>-0.47</td>\n",
       "      <td>27.008</td>\n",
       "      <td>-2.09</td>\n",
       "      <td>5.904</td>\n",
       "      <td>-0.03</td>\n",
       "      <td>183.846</td>\n",
       "      <td>-1.55</td>\n",
       "      <td>36.39</td>\n",
       "      <td>1.65</td>\n",
       "      <td>NaN</td>\n",
       "      <td>NaN</td>\n",
       "      <td>NaN</td>\n",
       "      <td>NaN</td>\n",
       "      <td>NaN</td>\n",
       "      <td>NaN</td>\n",
       "      <td>NaN</td>\n",
       "      <td>NaN</td>\n",
       "      <td>NaN</td>\n",
       "      <td>1952</td>\n",
       "    </tr>\n",
       "    <tr>\n",
       "      <th>3</th>\n",
       "      <td>1953-12-31</td>\n",
       "      <td>39.554437</td>\n",
       "      <td>1.73</td>\n",
       "      <td>43.558</td>\n",
       "      <td>-0.47</td>\n",
       "      <td>26.432</td>\n",
       "      <td>-2.13</td>\n",
       "      <td>5.903</td>\n",
       "      <td>-0.02</td>\n",
       "      <td>180.954</td>\n",
       "      <td>-1.57</td>\n",
       "      <td>36.98</td>\n",
       "      <td>1.62</td>\n",
       "      <td>NaN</td>\n",
       "      <td>NaN</td>\n",
       "      <td>NaN</td>\n",
       "      <td>NaN</td>\n",
       "      <td>NaN</td>\n",
       "      <td>NaN</td>\n",
       "      <td>NaN</td>\n",
       "      <td>NaN</td>\n",
       "      <td>NaN</td>\n",
       "      <td>1953</td>\n",
       "    </tr>\n",
       "    <tr>\n",
       "      <th>4</th>\n",
       "      <td>1954-12-31</td>\n",
       "      <td>40.257860</td>\n",
       "      <td>1.78</td>\n",
       "      <td>43.352</td>\n",
       "      <td>-0.47</td>\n",
       "      <td>25.856</td>\n",
       "      <td>-2.18</td>\n",
       "      <td>5.902</td>\n",
       "      <td>-0.02</td>\n",
       "      <td>178.062</td>\n",
       "      <td>-1.60</td>\n",
       "      <td>37.57</td>\n",
       "      <td>1.60</td>\n",
       "      <td>NaN</td>\n",
       "      <td>NaN</td>\n",
       "      <td>NaN</td>\n",
       "      <td>NaN</td>\n",
       "      <td>NaN</td>\n",
       "      <td>NaN</td>\n",
       "      <td>NaN</td>\n",
       "      <td>NaN</td>\n",
       "      <td>NaN</td>\n",
       "      <td>1954</td>\n",
       "    </tr>\n",
       "  </tbody>\n",
       "</table>\n",
       "</div>"
      ],
      "text/plain": [
       "        Date  Population  Pop_annual_change  Birth_Rate  BR_annual_change  \\\n",
       "0 1950-12-31   37.632520                NaN      44.175               NaN   \n",
       "1 1951-12-31   38.237695               1.61      43.970             -0.46   \n",
       "2 1952-12-31   38.879907               1.68      43.764             -0.47   \n",
       "3 1953-12-31   39.554437               1.73      43.558             -0.47   \n",
       "4 1954-12-31   40.257860               1.78      43.352             -0.47   \n",
       "\n",
       "   Death_Rate  DR_annual_change  Fert_Rate  FR_annual_change  Inf_Mort_Rate  \\\n",
       "0      28.161               NaN      5.907               NaN        189.629   \n",
       "1      27.584             -2.05      5.906             -0.02        186.737   \n",
       "2      27.008             -2.09      5.904             -0.03        183.846   \n",
       "3      26.432             -2.13      5.903             -0.02        180.954   \n",
       "4      25.856             -2.18      5.902             -0.02        178.062   \n",
       "\n",
       "   Inf_Mort_annual_change  Life_Exp_Rate  Life_Exp_annual_change  Rural_Pop  \\\n",
       "0                     NaN          35.21                     NaN        NaN   \n",
       "1                   -1.53          35.80                    1.68        NaN   \n",
       "2                   -1.55          36.39                    1.65        NaN   \n",
       "3                   -1.57          36.98                    1.62        NaN   \n",
       "4                   -1.60          37.57                    1.60        NaN   \n",
       "\n",
       "   Rural_Percent_of_Total_Pop  Rural_Pop_change  Urban_Pop  \\\n",
       "0                         NaN               NaN        NaN   \n",
       "1                         NaN               NaN        NaN   \n",
       "2                         NaN               NaN        NaN   \n",
       "3                         NaN               NaN        NaN   \n",
       "4                         NaN               NaN        NaN   \n",
       "\n",
       "   Urban_Percent_of_Total_Pop  Urban_Pop_change  SR_Total  SR_Male  SR_Female  \\\n",
       "0                         NaN               NaN       NaN      NaN        NaN   \n",
       "1                         NaN               NaN       NaN      NaN        NaN   \n",
       "2                         NaN               NaN       NaN      NaN        NaN   \n",
       "3                         NaN               NaN       NaN      NaN        NaN   \n",
       "4                         NaN               NaN       NaN      NaN        NaN   \n",
       "\n",
       "   Year  \n",
       "0  1950  \n",
       "1  1951  \n",
       "2  1952  \n",
       "3  1953  \n",
       "4  1954  "
      ]
     },
     "execution_count": 39,
     "metadata": {},
     "output_type": "execute_result"
    }
   ],
   "source": [
    "ind_pop_df.head()"
   ]
  },
  {
   "cell_type": "markdown",
   "metadata": {},
   "source": [
    "#### Above is the final dataframe\n",
    "    - Find the hidden patterns (Via visualization)\n",
    "    - ANOVA Statistical Test??"
   ]
  },
  {
   "cell_type": "code",
   "execution_count": 40,
   "metadata": {},
   "outputs": [
    {
     "ename": "NameError",
     "evalue": "name 'cbr_data' is not defined",
     "output_type": "error",
     "traceback": [
      "\u001b[1;31m---------------------------------------------------------------------------\u001b[0m",
      "\u001b[1;31mNameError\u001b[0m                                 Traceback (most recent call last)",
      "\u001b[1;32m<ipython-input-40-3a18fea60fc3>\u001b[0m in \u001b[0;36m<module>\u001b[1;34m()\u001b[0m\n\u001b[0;32m      1\u001b[0m \u001b[0mp\u001b[0m \u001b[1;33m=\u001b[0m \u001b[0mfigure\u001b[0m\u001b[1;33m(\u001b[0m\u001b[0mplot_width\u001b[0m\u001b[1;33m=\u001b[0m\u001b[1;36m400\u001b[0m\u001b[1;33m,\u001b[0m \u001b[0mplot_height\u001b[0m\u001b[1;33m=\u001b[0m\u001b[1;36m400\u001b[0m\u001b[1;33m,\u001b[0m\u001b[0mx_axis_label\u001b[0m\u001b[1;33m=\u001b[0m\u001b[1;34m'x'\u001b[0m\u001b[1;33m,\u001b[0m\u001b[0my_axis_label\u001b[0m\u001b[1;33m=\u001b[0m\u001b[1;34m'y'\u001b[0m\u001b[1;33m)\u001b[0m\u001b[1;33m\u001b[0m\u001b[0m\n\u001b[0;32m      2\u001b[0m \u001b[1;33m\u001b[0m\u001b[0m\n\u001b[1;32m----> 3\u001b[1;33m \u001b[0mp\u001b[0m\u001b[1;33m.\u001b[0m\u001b[0msquare\u001b[0m\u001b[1;33m(\u001b[0m\u001b[0mcbr_data\u001b[0m\u001b[1;33m[\u001b[0m\u001b[1;34m'Births per 1000 People'\u001b[0m\u001b[1;33m]\u001b[0m\u001b[1;33m,\u001b[0m\u001b[0mcbr_data\u001b[0m\u001b[1;33m[\u001b[0m\u001b[1;34m'Annual % Change'\u001b[0m\u001b[1;33m]\u001b[0m\u001b[1;33m,\u001b[0m\u001b[0msize\u001b[0m\u001b[1;33m=\u001b[0m\u001b[1;36m15\u001b[0m\u001b[1;33m,\u001b[0m\u001b[0mline_color\u001b[0m\u001b[1;33m=\u001b[0m\u001b[1;34m'black'\u001b[0m\u001b[1;33m,\u001b[0m\u001b[0mfill_alpha\u001b[0m\u001b[1;33m=\u001b[0m\u001b[1;36m0.5\u001b[0m\u001b[1;33m,\u001b[0m\u001b[0mfill_color\u001b[0m\u001b[1;33m=\u001b[0m\u001b[1;34m'orange'\u001b[0m\u001b[1;33m)\u001b[0m\u001b[1;33m\u001b[0m\u001b[0m\n\u001b[0m\u001b[0;32m      4\u001b[0m \u001b[1;33m\u001b[0m\u001b[0m\n\u001b[0;32m      5\u001b[0m \u001b[0mshow\u001b[0m\u001b[1;33m(\u001b[0m\u001b[0mp\u001b[0m\u001b[1;33m)\u001b[0m\u001b[1;33m\u001b[0m\u001b[0m\n",
      "\u001b[1;31mNameError\u001b[0m: name 'cbr_data' is not defined"
     ]
    }
   ],
   "source": [
    "p = figure(plot_width=400, plot_height=400,x_axis_label='x',y_axis_label='y')\n",
    "\n",
    "p.square(cbr_data['Births per 1000 People'],cbr_data['Annual % Change'],size=15,line_color='black',fill_alpha=0.5,fill_color='orange')\n",
    "\n",
    "show(p)"
   ]
  }
 ],
 "metadata": {
  "kernelspec": {
   "display_name": "Python 3",
   "language": "python",
   "name": "python3"
  },
  "language_info": {
   "codemirror_mode": {
    "name": "ipython",
    "version": 3
   },
   "file_extension": ".py",
   "mimetype": "text/x-python",
   "name": "python",
   "nbconvert_exporter": "python",
   "pygments_lexer": "ipython3",
   "version": "3.6.5"
  }
 },
 "nbformat": 4,
 "nbformat_minor": 4
}
